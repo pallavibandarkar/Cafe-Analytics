{
 "cells": [
  {
   "cell_type": "code",
   "execution_count": 1,
   "id": "c5ad0990-0c11-4927-8a68-215c3661f174",
   "metadata": {},
   "outputs": [
    {
     "name": "stdout",
     "output_type": "stream",
     "text": [
      "We visited their Andheri branch. If you are a Mumbaikar you must have definitely heard about Joey's Pizza. I wanted to try this most hyped pizza since long & eventually I had been here on Sunday. Had heard that this place would be crowded but wasn't expecting to be soo much crowded. Literally the waiting for dine in was around 2 hour so we decided to take a takeaway and eat in the waiting area where they have set up some tables. Even to get this table we have to wait for 20 mints however the order didn't took that long.We tried their - 1. Medium sized Half and half pizza @ Rs. 525/-Paneer Makhani which had capsicum, onion, red-paprika, paneer tikka with tandoori sauce. And...read more\n",
      "It was worth the wait……waiting here to get the table is mandatory for 1/2 hours but its worth waiting so we tried keema do pyaaza pizza, tornado pizza and garlic bread\n",
      "I wanted to try this most hyped pizza since long & eventually I had been here on Sunday. Had heard that this place would be crowded hence waiting time might be more but I got my table just after waiting for 20 mins. Inside section is significantly small as per the coming crowd so according to me they could have developed outdoor seating as well to accommodate more people’s.After almost 30 mins of waiting I received my below orders:.* SUPER CHEESY GARLIC BREAD TOPPED WITH BBQ CHICKEN (3/5).You get 4 pieces of garlic bread topped with Mozzarella cheese along with less chicken pieces on it. Taste was average but as per name I didn’t found any super factor in it. Instead go for...read more\n",
      "muslims please don't order here Pork is also served in their kitchen. I went there today and asked if the utensils are different. He told me that there is no separate utensils for non-veg.They make both chicken and pork using the same utensil\n",
      "Just the hype!!People pfr just bcz of overloaded cheese & toppings!! They need to understand how pizzas are made!! just cheese cheese cheese across the pizza. too much of toppings created mess!! Sauce taste can't be felt!! It's just a mess!! \n"
     ]
    }
   ],
   "source": [
    "import requests\n",
    "from bs4 import BeautifulSoup\n",
    "\n",
    "\n",
    "headers = {\n",
    "    \"User-Agent\": \"Mozilla/5.0 (Windows NT 10.0; Win64; x64) AppleWebKit/537.36 (KHTML, like Gecko) Chrome/91.0.4472.114 Safari/537.36\"\n",
    "}\n",
    "r = requests.get(\n",
    "    \"https://www.zomato.com/mumbai/joeys-pizza-malad-west/reviews\", headers=headers\n",
    ")\n",
    "soup = BeautifulSoup(r.text, \"html.parser\")\n",
    "\n",
    "for tag in soup.find_all(\"p\", class_=\"sc-1hez2tp-0 fKvqMN\"):\n",
    "    print(tag.find_previous(\"p\").text)"
   ]
  },
  {
   "cell_type": "code",
   "execution_count": 6,
   "id": "ad4184c7-4535-4d49-abd4-3cb99b3bcf4a",
   "metadata": {},
   "outputs": [
    {
     "name": "stdout",
     "output_type": "stream",
     "text": [
      "Called for a cold match  latte. It was so sweet felt like puking. Waste of money.\n",
      "\n",
      "Coffee arrived open and spilled\n",
      "Not the usual Java Chip. Something was wrong!\n",
      "The coffee was extremely sweet and watery. Could not have it. Spoilt my experience.\n"
     ]
    }
   ],
   "source": [
    "import requests\n",
    "from bs4 import BeautifulSoup\n",
    "\n",
    "\n",
    "headers = {\n",
    "    \"User-Agent\": \"Mozilla/5.0 (Windows NT 10.0; Win64; x64) AppleWebKit/537.36 (KHTML, like Gecko) Chrome/91.0.4472.114 Safari/537.36\"\n",
    "}\n",
    "r = requests.get(\n",
    "    \"https://www.zomato.com/mumbai/starbucks-coffee-kemps-corner/reviews\", headers=headers\n",
    ")\n",
    "soup = BeautifulSoup(r.text, \"html.parser\")\n",
    "#sc-1hez2tp-0 sc-hnEnYr gPrxrQ\n",
    "\n",
    "for tag in soup.find_all(\"p\", class_=\"sc-1hez2tp-0 fKvqMN\"):\n",
    "    print(tag.find_previous(\"p\").text)"
   ]
  },
  {
   "cell_type": "code",
   "execution_count": 14,
   "id": "0171dc72-849e-4e76-b799-2353cf055f70",
   "metadata": {},
   "outputs": [
    {
     "name": "stdout",
     "output_type": "stream",
     "text": [
      "Called for a cold match  latte. It was so sweet felt like puking. Waste of money.\n",
      "\n",
      "Coffee arrived open and spilled\n",
      "Not the usual Java Chip. Something was wrong!\n",
      "The coffee was extremely sweet and watery. Could not have it. Spoilt my experience.\n",
      "coffee half filled and no milk in it\n",
      "coffee is spilled and no straw how I am supposed to drink ?\n",
      "\n",
      "The package was broken and so was the seal\n",
      "\n",
      "Completely different taste. Not at all proper.\n",
      "just because the menu price was 190, doesn't mean the coffee should also taste discounted. Horrible taste.\n",
      "absolutely lousy\n",
      "\n",
      "\n",
      "not hot as requested\n",
      "\n",
      "\n",
      "The whipped cream tasted sour\n",
      "\n",
      "I love Starbuck’s Java Chip\n",
      "\n",
      "\n",
      "\n",
      "The taste is horrible not the exact caramel frapaccino and to top off they didn’t even send the straw how does one drink it  ? Open the lid and drink like hot coffee yuck.\n"
     ]
    }
   ],
   "source": [
    "import requests\n",
    "from bs4 import BeautifulSoup\n",
    "\n",
    "base_url = \"https://www.zomato.com/mumbai/starbucks-coffee-kemps-corner/reviews\"\n",
    "headers = {\n",
    "    \"User-Agent\": \"Mozilla/5.0 (Windows NT 10.0; Win64; x64) AppleWebKit/537.36 (KHTML, like Gecko) Chrome/91.0.4472.114 Safari/537.36\"\n",
    "}\n",
    "page_number=1\n",
    "while(page_number<6):\n",
    "     url = f\"{base_url}?page={page_number}\"  # Adjust URL pattern as needed\n",
    "     r = requests.get(url, headers=headers)\n",
    "     soup = BeautifulSoup(r.text, \"html.parser\")\n",
    "     #sc-1hez2tp-0 sc-hnEnYr gPrxrQ\n",
    "\n",
    "     for tag in soup.find_all(\"p\", class_=\"sc-1hez2tp-0 fKvqMN\"):\n",
    "         print(tag.find_previous(\"p\").text)\n",
    "     page_number+=1\n"
   ]
  },
  {
   "cell_type": "code",
   "execution_count": 3,
   "id": "c3e17cf1-cb5b-4746-a216-ac7d1d817eff",
   "metadata": {},
   "outputs": [
    {
     "name": "stdout",
     "output_type": "stream",
     "text": [
      "Called for a cold match  latte. It was so sweet felt like puking. Waste of money.\n",
      "\n",
      "Coffee arrived open and spilled\n",
      "Not the usual Java Chip. Something was wrong!\n",
      "The coffee was extremely sweet and watery. Could not have it. Spoilt my experience.\n",
      "coffee half filled and no milk in it\n",
      "coffee is spilled and no straw how I am supposed to drink ?\n",
      "\n",
      "The package was broken and so was the seal\n",
      "\n",
      "Completely different taste. Not at all proper.\n",
      "just because the menu price was 190, doesn't mean the coffee should also taste discounted. Horrible taste.\n",
      "absolutely lousy\n",
      "\n",
      "\n",
      "not hot as requested\n",
      "\n",
      "\n",
      "The whipped cream tasted sour\n",
      "\n",
      "I love Starbuck’s Java Chip\n",
      "\n",
      "\n",
      "\n",
      "The taste is horrible not the exact caramel frapaccino and to top off they didn’t even send the straw how does one drink it  ? Open the lid and drink like hot coffee yuck.\n",
      "my order was awesome. thank you star bucks \n",
      "Package was open and spilled.\n",
      "\n",
      "\n",
      "\n",
      "the delivery partner was supposed to give change back, which he never did \n",
      "not strong enough and not hot could gulp it down on one sip\n",
      "no straw was given neither sugar was given nor any spoon and it was like a ice-cream more than a coffee \n",
      "\n",
      "\n",
      "Yummy\n",
      "When we r ordering two coffee why you are giving one stick & single sugar packet…\n",
      "the deliver was very fast and the coffee was safely delivered to me! \n",
      "\n",
      "\n",
      "cookie was very hard.probably old\n",
      "Completely leaked. \n",
      "Coffee was only half\n",
      "\n",
      "\n",
      "Very bad packaging. The glue spikes the glass\n",
      "not very tasty. \n",
      "They just totally forgot to seal there hot drink recieved an empty cup\n",
      "There is no straw or tissue\n",
      "The coffee glass was less than half full\n",
      "\n",
      "Less portion & was cold. I had ordered HOT chocolate but when it got delivered was very cold\n",
      "\n",
      "Wrong item delivered (1 coffee) instead of 2. Spilled contents. Rude delivery person. \n",
      "Vietnamese latte was lukewarm. \n",
      "\n",
      "\n",
      "watery ..\n",
      "The drink was just half it was spilled\n",
      "\n",
      "\n",
      "I specifically asked for no whipped cream to be added but my coffee came with loads of whipped cream. I'm allergic to it so I couldn't have the coffee 😔\n",
      "good day! please explain why the portion size is smaller with each order? We ordered two drinks of the same size! olin came in a normal size, and the second drink was smaller. This is the second time this has happened. It was the same last time.\n",
      "Unbelievably sweet …. Disappointing\n",
      "Wrong items delivered \n",
      "Drink was too watery even after mixing the whip cream. Expected it to be thicker.\n",
      "Wrong order sent\n",
      "\n",
      "\n",
      "\n",
      "\n",
      "\n",
      "the coffee had no taste and no Java chips!\n",
      "\n",
      "Once more. Why were my cooking instructions not followed?\n",
      "\n",
      "75 percent is ice there's no coffee milk anythg extremtly sweet not acceptable from Starbucks\n",
      "Portion of the coffee was half, it was an ice blended Frappuccino but completely liquid.\n",
      "was delivered wrong order and the other one was too good\n",
      "\n",
      "\n",
      "no flavor at all in the vanilla cold brew.no vanilla flavor, no sweetness, all watery drink\n",
      "\n",
      "\n",
      "\n",
      "\n",
      "pathetic\n",
      "The cup was half filled which is surprising .  I order frequently from Starbucks and this is the first time this happened\n",
      "did not provide essential cutlery for order\n",
      "no straw pls check the order nicely thank u\n",
      "\n",
      "Food instructions were not followed. Hot chocolate has no sweetness. We had ordered regular hot chocolate.\n",
      "\n",
      "so much ice was added\n",
      "\n",
      "Unsealed glass. Spilled coffee. \n",
      "\n",
      "Seal broken on paper bag. Glass damaged. Sub standard packaging. \n",
      "\n",
      "\n",
      "\n",
      "it's tall size I ordered for bigger \n",
      "Ordered for caramel Java chip and the coffee didn’t have even one Java chip\n",
      "The toast was soggy and tasted extremely bad\n",
      "\n",
      "tastes a bit weird, not sweet enough \n",
      "They didn’t send me my cupcakes and didn’t bother to even connect with me when I kept trying to call them. Horrible customer service after it being their fault!\n",
      "Please improve you packaging the lid dose not close properly and the cardboard cover to hold hot glass is missing 👍 next time I order I hope it’s better\n",
      "My coffee was spilled, seal was broken too. Upon asking the delivery partner the reason behind the seal being opened and the coffee being spilled, he replied saying that it is the restaurant's mistake and not his. A hot beverage is supposed to be sealed properly which was not the case today. Extremely disappointed I've never seen any Starbucks outlet serve me like this ever beforeVery poor service and packaging Not worth my money \n",
      "There was no whipped cream at all in my coffee. Horrible experience I paid for it and not getting.\n",
      "Stale coffee\n",
      "\n",
      "favorite \n",
      "\n",
      "Starbucks din add chocolate whipped cream in the drink \n",
      "\n",
      "\n",
      "my latte had no sugar in it\n",
      "\n",
      "\n",
      "cappuccino was very bad and cold \n",
      "They didn’t even provide straw with the parcel I mean how to drink frappe without straw\n",
      "They sent the wrong pastry\n",
      "Package was not properly done everything was spilled in the bag\n",
      "very mild no taste of coffee drinking plain milk only horrible experience n venti size it's less in portion \n",
      "Coffee was 30 percent empty\n",
      "Too much sugar\n",
      "Super fresh, perfect bread, lacked flavours\n",
      "I want my money back fr the fradulant practice.. whats wrong.. this is the second time this is happening\n",
      "\n",
      "My special instructions were not followed\n",
      "\n",
      "The packaging for drinks is what impressed me and to give a rating 5 star for Starbucks.\n",
      "I need a refund for the Coffee immediately!!\n",
      "\n",
      "very sad with the wrong order inspite of giving specifications \n",
      "\n",
      "\n",
      "\n",
      "ordered a bigger size but received half empty cup.\n",
      "\n",
      "Instruction not followed\n",
      "Very rude and incompetent employees.Completely Underqualified, uneducated fools running the store.starbucks needs to implement customer feedback regarding their employees.\n",
      "\n",
      "Not good taste\n",
      "Frappuccino without a straw how do I drink it???\n",
      "I would like to suggest that if incase when the order is wrongly made or some issue with cold and hot or not up to the mark the rejected food should not be thrown in the bin rather a seaparate box should be kept where all such food is donated to the needy people or given as charity which is untouched food/drink. \n",
      "Zomato as a company are becoming expert liars. Telling me delivery is before time and sending around 12-13 minutes late is UNACCEPTABLE. Now I don’t care who is responsible or what is the reason for delay, but it better not happen ever again.\n",
      "took too much time at Starbucks \n",
      "Bottle was cracked.\n",
      "\n",
      "When life gives you anything from Starbucks, drink it.\".Starbucks was founded around the experience and the environment of its stores. Starbucks was about a space with comfortable chairs, lots of power outlets, tables, and desks at which we could work and the option to spend as much time in their stores as we wanted without any pressure to buy. The coffee was incidental. . Highly recommended. . Thank you for reading. Do follow if you came this far…😊\n",
      "The combo offer may be extended to include some  other drinks as well, especially icy ones.\n",
      "I ordered java chip Frappuccino and it was tasteless please provide a solution. I have tried this previously also but there is a lot of difference in taste \n",
      "\n",
      "\n",
      "Service and delivery is perfect but Chilli cheese toast are not chilli at all. Also i asked for double blend.\n",
      "It was not at all fresh!\n",
      "Only half cake and bad in condition\n",
      "Too late in preparing drink\n",
      "\n",
      "Whether it's buzzing or empty, the staff at the Kemps Corner Starbucks outlet is always warm, welcoming and cooperative. If you make a request, they're usually fairly prompt. Love the easy going vibe. Didn't like the food earlier and shared feedback awhile ago. Some of the new introductions like cheese croissants and apple croissant are quite nice. Lovely place to work at.\n",
      "I recieve the half cup of hot chocolate ,, as they take full money from me … the quantity was very less .. as v go personally at Starbucks they provide full glass and when I order it was half empty\n",
      "\n",
      "\n",
      "Atleast put a decent amount of coffee. Tastes of just milk. Threw it\n",
      "Wrong order\n",
      "\n",
      "the order came without the milk. had clearly marked low fat milk but was missing in the order \n",
      "I added gifting card of bday and wrote one customized message. But no card was received. Whole purpose was to give card and say sorry\n",
      "Too late\n",
      "\n",
      "No straw! \n",
      "\n",
      "It was not fresh and i threw it not good as always very bad experience having it this time hate it\n",
      "Send me another cappuccino\n",
      "gave me the wring coffee without hazelnut syrup \n",
      "not made well\n",
      "\n",
      "\n",
      "Packing was not properly\n",
      "awesome delivery\n",
      "But the delivery guy was good thats why im giving 5 stars\n",
      "\n",
      "\n",
      "Superbly made and packed\n",
      "Order is always delayed. Why charge high delivery charges if order is always delayed in preparation.\n",
      "Order grande, was given small.\n",
      "I’ve had this around 400 times. But this time there was Very little coffee and it was too sweet\n",
      "\n",
      "\n",
      "Coffee was strong and good and the thing which I like the most was bits of choco chips which came while drinking coffee\n",
      "\n",
      "\n",
      "\n",
      "Very sweet. I think sugar was added twice\n",
      "Excellent, exemplary packaging. never seen so much attention to detail in food packaging before. even a tiny scoop of ice cream was packed with an ice pack and send. absolutely impressed\n",
      "Toooooooooooo good. \n",
      "should have sent the straw. ruined my experience with this no cutlery BS.\n",
      "\n",
      "\n",
      "\n",
      "\n",
      "\n",
      "\n",
      "\n",
      "packaging was not good , also i didnt reveived straw with it\n",
      "I can’t believe this! This is the second time that I’ve receive half of what I would usually receive. I am going to lodge a complaint with the grievance committee. Very very disappointed\n",
      "The quantity is half of what I should get. This is unacceptable Just because we order at home, they can’t give us less, we are paying the same amount.\n",
      "Quick delivery and delivered hot. Thanks to Starbucks and Zomato tie up that we can have our cup of coffee at our suitable time.\n",
      "we request for no sugar. However coffee was too sweet.\n",
      "we ordered this ice cream tub & they gave literally half the quantity money completely wasted we ordered for 400 & they sent 270 & even have the audacity to say 400 equals to 270 even Google says no \n",
      "coffee was  overflowing n handled badly leaked all over was very messy didn't taste so good like the normal caramel macchiato disappointed with the taste \n",
      "there was spilling in the box which made the glass very sticky a lot of juice is wasted\n",
      "thankyou for adding the message as wanted, thanks \n",
      "this always comes with whipped cream!....all my previous orders have Whipped cream on top!...\n",
      "Its a great place to order a delicious food, beverage and my fav javachip icream is really awesome..... Great packaging \n",
      "it was very watery watery , I always drink that first time I felt very bad experience\n",
      "Pls care about customization.I told less milk, was full milk\n",
      "Ordered two cups of hot chocolates and out of which one was not filled fully. after paying high, why do they provide less quantity?\n",
      "\n",
      "\n",
      "\n",
      "\n",
      "\n",
      "\n",
      "\n",
      "\n",
      "\n",
      "\n",
      "\n",
      "\n",
      "\n",
      "\n",
      "\n",
      "\n",
      "\n",
      "\n",
      "\n",
      "\n",
      "\n",
      "\n",
      "\n",
      "\n",
      "\n",
      "\n",
      "This is another great place to hang out with friends and chill out and enjoy the cold coffee. My favorite here is Cold Coffee, Tandoori Paneer Sandwich and New York Cheese Cake. The place is in a very posh area and is on the first floor, next to the Kemps Corner Bridge. The staff is very nice, friendly and helpful. The store manager ensures the store is having a lovely atmosphere. And the staff is very kind and always greet you with a huge smile and make your stress go away. Thank You Starbucks.\n",
      "Located near crosswords and hobby ideas at kemps corner. They have a great ambience. the atmosphere is so good that people sit here for hours. it maintains hygiene and also provides wifi so you can sit and work while sipping their coffee. its a little expensive but its worth sitting with your friends for hours. If you love coffee, this place is for you. The containers and paper bags also look so presentable. \n",
      "Simply yummy.Starbucks is always fabulous \n",
      "\n",
      "\n",
      "\n",
      "Who doesn't love starbucks?!One of the prefect places to hang out with your friends with delicious coffe in front you.Java chip has always been my order.Ambience is very cute and cozy.Always filled with young crowdA bang for the price.❤\n",
      "Amazing experience having coffee at Starbucks. Good quality espresso shot. Good quality beans used and amazing taste. Good ambiance and great service. Ratings as per me : Coffee 5/5, Food 4/5, Service 4.5/5 , ambiance 4/5 & Overall experience 4.5/5. One should visit here and taste the amazing coffee...\n",
      "\n",
      "Paradise for coffee lover's.My all time favourite items are Choco Java Chip,Caramel Java Chip and Red Velvet Cheesecake. But for a change I tried Caramel Macchiato and it was nice.My overall experience was 4.5/5.\n",
      "\n",
      "\n",
      "\"When life gives you anything from Starbucks, drink it.\". 🤪🤪Starbucks was founded around the experience and the environment of its stores. Starbucks was about a space with comfortable chairs, lots of power outlets, tables and desks at which we could work and the option to spend as much time in their stores as we wanted without any pressure to buy. The coffee was incidental.\n",
      "\n",
      "\n",
      "\n",
      "The store is just near my work place which means it's my go to place for coffee😊very friendly,jolly and helpful staff with great coffee and savory menu.\n",
      "\n",
      "\n",
      "Starbucks is a great place to hang out with your closest pals and the new range of coffee flavours are worth dying for! I can't function without a Starbucks Coffee and it totally livens me up! The ambience is warm and welcoming and I would totally recommend this cafe! ❤😍\n",
      "Ambiance - 5/5Cost - 4/5Service - 4/5Food - 4/5The staff is very polite and friendly. We ordered Java chip frappe. Overall it was a good experience.\n",
      "Summer coolers is a for everybody, legends opt for frappes by Starbucks! We are sooo glued to the newly introduced triple mocha by Starbucks that we can't stop ourselves from making the visits. You have got to try this one out!\n",
      "Much needed coffee shop in this neighbourhood. Starbucks is Starbucks, I gave this location 1 star down because of the first floor non-prime location.The coffee is great, I wish the sandwiches were less \"bready\". \n",
      "One of my favourite starbucks. Their staff is super friendly and their service is super fast. Their location is awesome and i have had a great experience everytime i went there.\n",
      "Cleanliness: 3/5 - table was not cleanedFood : 4/5Ambience : 3/5 - few tables were placed very near to each other.Ordered:1. Starbucks Frappuccino comes in glass bottle2. Caffe Mocha - cold3. Strawberries and Creme4. Mozzarella cheese and tomato sandwich.Take away pictures.\n",
      "One of the best Starbucks experience. This one is usually quite with a bit good and quiet crowd. It's great to go there on date for a coffee and hang out of with friends as well. \n",
      "My all time favourite drink “CARAMEL JAVA CHIP” .It’s true. The perfect cup of coffee and a wholesome, delicious snack can make your day. Loveeeeeeeee \n",
      "This starbucks is pretty small and cramped compared to other outlets..Starbucks being starbucks, sells its drinks at a quite high price , (personally , its fricking overpriced) . I'd suggest you go to some other Cafe in the area as this doesn't live up to its hype. \n",
      "The best place to hangour with friends or could just chill on your own(yeah the coffee is that good).. enjoyed every moment and it turned out to be this coffee at 100 day.. what a day... the coffee the food the desserts.. u can call it heaven... ❤\n",
      "Well whenever I have a craving for coffee Starbucks provide the amazing double chocolate coffee which I prefer and also java chip frapuccino is good😋\n",
      "I really love coming here as whenever i enter this place and people recognise me feels very positive. Inspite of seeing so many faces daily the staff knowing you by the name is totally 5/5. I come here with friends and family and over this weekend i have been coming to work on my laptop and trust me the vibe is amazing. This place has actually become my 3rd place to be after Home and Office.\n",
      "It's a fine place. I have been here several times. I don't like the service. They never clear the table in proper time. I have to ask them twice. There is nothing to say about preparation as it's done with some standard measurements. So that will be same.Fine the place has space and nice decor \n",
      "Nice place to have coffee. And they have a very nice coffee counter. And one good thing about Starbucks, they are always consistent. And the cookies are lovely. \n",
      "Starbucks is the love ❣️If we were in Mumbai n we haven’t  visit Starbucks then we feel regretful Starbucks don’t make coffee it makes emotions I guess Starbucks is the bae\n",
      "People say Starbucks is over rated and expensive but for me Starbucks will always be one that serves my favorite coffee.Things I love here:Amazing Java Chip frappCaramel FrappHot chocolateIt is a perfect place to chill out with your friends.Sit for hours sipping your favorite coffee.😍😍\n",
      "Recent opening of the Starbucks, Kemps Corner In particular made me quite thrilled as not only is it the closest Starbucks to my home but also they serve non vegetarian food unlike the one at chowpatty which was earlier the closest to place.It’s opened right adjacent to the doolally Kemp’s Corner which is again were I frequent very often. This particularly has become a hub for youngsters to relax after a stressful day at work and catch up with fiends or even catch up with work sometimes at the same time grab a coffee or two with some snacks. The food at Starbucks is not only delicious but also healthy. Almost all the snacks are made of multigrain or oats with egg white etc. which...read more\n",
      "I have always seen the Kemps Corner Starbucks from the bridge but never really had the time to walk in. It looks super pretty at night!I was around the corner and needed a place to finish some urgent work. So I headed down to this place. It's really well lit, And very spaced out. But I would recommend a bigger community table. Like is available at the other outlets.I tried the Macadamia Cocoa Cappuccino. Which is a new drink on the menu. But I didn't quite like it. Other than that I really loved my hot chocolate.Nice place to be when you have work to complete. The environment is super work friendly. Next door is a doollaly so have some dogs to play around with in the passage. \n",
      "Starbucks recently opened a branch in Kemps Corner and we visited this place for a conversation over coffee. The place is nice with comfortable seating and we were happy to sip over the hot chocolate and strawberry smoothie - both of which were delicious. We saw many people be it college students to professionals to couples who visit this place and unwind themselves with the coffee while they chat or work on their laptops.\n",
      "Everyone knows about Starbucks. They have the best coffee ever. My favorites are the white mocha and the matcha espresso brew(cold). Like their cheesecake and sandwiches too\n",
      "Though remotely located yet awesomeLess crowded and peacefulCan enjoy coffee and hav a great conv Great place for couplesOne of the finest branches in the city \n",
      "Need to visit all the Starbucks in town, so here we are... came for desserts.. had to have our fav Blueberry Cheesecake 11/10 😜 but yeah I must add the cheesecake here was super fresh so we were forced to order another one ❤️. We also tried the Irish Cake, was superrrr yummm coming back for this one. Varun Sonaiya Aashika Jain\n"
     ]
    }
   ],
   "source": [
    "import requests\n",
    "from bs4 import BeautifulSoup\n",
    "reviews=[]\n",
    "\n",
    "base_url = \"https://www.zomato.com/mumbai/starbucks-coffee-kemps-corner/reviews\"\n",
    "headers = {\n",
    "    \"User-Agent\": \"Mozilla/5.0 (Windows NT 10.0; Win64; x64) AppleWebKit/537.36 (KHTML, like Gecko) Chrome/91.0.4472.114 Safari/537.36\"\n",
    "}\n",
    "page_number=1\n",
    "while(page_number<59):\n",
    "     url = f\"{base_url}?page={page_number}\"  # Adjust URL pattern as needed\n",
    "     r = requests.get(url, headers=headers)\n",
    "     soup = BeautifulSoup(r.text, \"html.parser\")\n",
    "     #sc-1hez2tp-0 sc-hnEnYr gPrxrQ\n",
    "\n",
    "     for tag in soup.find_all(\"p\", class_=\"sc-1hez2tp-0 fKvqMN\"):\n",
    "         reviews.append(tag.find_previous(\"p\").text)\n",
    "         print(tag.find_previous(\"p\").text)\n",
    "     page_number+=1\n"
   ]
  },
  {
   "cell_type": "code",
   "execution_count": 5,
   "id": "6b0bd07c-17b1-4972-b577-594df706f43c",
   "metadata": {},
   "outputs": [
    {
     "name": "stdout",
     "output_type": "stream",
     "text": [
      "['Called for a cold match  latte. It was so sweet felt like puking. Waste of money.', '', 'Coffee arrived open and spilled', 'Not the usual Java Chip. Something was wrong!', 'The coffee was extremely sweet and watery. Could not have it. Spoilt my experience.', 'coffee half filled and no milk in it', 'coffee is spilled and no straw how I am supposed to drink ?', '', 'The package was broken and so was the seal', '', 'Completely different taste. Not at all proper.', \"just because the menu price was 190, doesn't mean the coffee should also taste discounted. Horrible taste.\", 'absolutely lousy', '', '', 'not hot as requested', '', '', 'The whipped cream tasted sour', '', 'I love Starbuck’s Java Chip', '', '', '', 'The taste is horrible not the exact caramel frapaccino and to top off they didn’t even send the straw how does one drink it  ? Open the lid and drink like hot coffee yuck.', 'my order was awesome. thank you star bucks ', 'Package was open and spilled.', '', '', '', 'the delivery partner was supposed to give change back, which he never did ', 'not strong enough and not hot could gulp it down on one sip', 'no straw was given neither sugar was given nor any spoon and it was like a ice-cream more than a coffee ', '', '', 'Yummy', 'When we r ordering two coffee why you are giving one stick & single sugar packet…', 'the deliver was very fast and the coffee was safely delivered to me! ', '', '', 'cookie was very hard.probably old', 'Completely leaked. ', 'Coffee was only half', '', '', 'Very bad packaging. The glue spikes the glass', 'not very tasty. ', 'They just totally forgot to seal there hot drink recieved an empty cup', 'There is no straw or tissue', 'The coffee glass was less than half full', '', 'Less portion & was cold. I had ordered HOT chocolate but when it got delivered was very cold', '', 'Wrong item delivered (1 coffee) instead of 2. Spilled contents. Rude delivery person. ', 'Vietnamese latte was lukewarm. ', '', '', 'watery ..', 'The drink was just half it was spilled', '', '', \"I specifically asked for no whipped cream to be added but my coffee came with loads of whipped cream. I'm allergic to it so I couldn't have the coffee 😔\", 'good day! please explain why the portion size is smaller with each order? We ordered two drinks of the same size! olin came in a normal size, and the second drink was smaller. This is the second time this has happened. It was the same last time.', 'Unbelievably sweet …. Disappointing', 'Wrong items delivered ', 'Drink was too watery even after mixing the whip cream. Expected it to be thicker.', 'Wrong order sent', '', '', '', '', '', 'the coffee had no taste and no Java chips!', '', 'Once more. Why were my cooking instructions not followed?', '', \"75 percent is ice there's no coffee milk anythg extremtly sweet not acceptable from Starbucks\", 'Portion of the coffee was half, it was an ice blended Frappuccino but completely liquid.', 'was delivered wrong order and the other one was too good', '', '', 'no flavor at all in the vanilla cold brew.no vanilla flavor, no sweetness, all watery drink', '', '', '', '', 'pathetic', 'The cup was half filled which is surprising .  I order frequently from Starbucks and this is the first time this happened', 'did not provide essential cutlery for order', 'no straw pls check the order nicely thank u', '', 'Food instructions were not followed. Hot chocolate has no sweetness. We had ordered regular hot chocolate.', '', 'so much ice was added', '', 'Unsealed glass. Spilled coffee. ', '', 'Seal broken on paper bag. Glass damaged. Sub standard packaging. ', '', '', '', \"it's tall size I ordered for bigger \", 'Ordered for caramel Java chip and the coffee didn’t have even one Java chip', 'The toast was soggy and tasted extremely bad', '', 'tastes a bit weird, not sweet enough ', 'They didn’t send me my cupcakes and didn’t bother to even connect with me when I kept trying to call them. Horrible customer service after it being their fault!', 'Please improve you packaging the lid dose not close properly and the cardboard cover to hold hot glass is missing 👍 next time I order I hope it’s better', \"My coffee was spilled, seal was broken too. Upon asking the delivery partner the reason behind the seal being opened and the coffee being spilled, he replied saying that it is the restaurant's mistake and not his. A hot beverage is supposed to be sealed properly which was not the case today. Extremely disappointed I've never seen any Starbucks outlet serve me like this ever beforeVery poor service and packaging Not worth my money \", 'There was no whipped cream at all in my coffee. Horrible experience I paid for it and not getting.', 'Stale coffee', '', 'favorite ', '', 'Starbucks din add chocolate whipped cream in the drink ', '', '', 'my latte had no sugar in it', '', '', 'cappuccino was very bad and cold ', 'They didn’t even provide straw with the parcel I mean how to drink frappe without straw', 'They sent the wrong pastry', 'Package was not properly done everything was spilled in the bag', \"very mild no taste of coffee drinking plain milk only horrible experience n venti size it's less in portion \", 'Coffee was 30 percent empty', 'Too much sugar', 'Super fresh, perfect bread, lacked flavours', 'I want my money back fr the fradulant practice.. whats wrong.. this is the second time this is happening', '', 'My special instructions were not followed', '', 'The packaging for drinks is what impressed me and to give a rating 5 star for Starbucks.', 'I need a refund for the Coffee immediately!!', '', 'very sad with the wrong order inspite of giving specifications ', '', '', '', 'ordered a bigger size but received half empty cup.', '', 'Instruction not followed', 'Very rude and incompetent employees.Completely Underqualified, uneducated fools running the store.starbucks needs to implement customer feedback regarding their employees.', '', 'Not good taste', 'Frappuccino without a straw how do I drink it???', 'I would like to suggest that if incase when the order is wrongly made or some issue with cold and hot or not up to the mark the rejected food should not be thrown in the bin rather a seaparate box should be kept where all such food is donated to the needy people or given as charity which is untouched food/drink. ', 'Zomato as a company are becoming expert liars. Telling me delivery is before time and sending around 12-13 minutes late is UNACCEPTABLE. Now I don’t care who is responsible or what is the reason for delay, but it better not happen ever again.', 'took too much time at Starbucks ', 'Bottle was cracked.', '', 'When life gives you anything from Starbucks, drink it.\".Starbucks was founded around the experience and the environment of its stores. Starbucks was about a space with comfortable chairs, lots of power outlets, tables, and desks at which we could work and the option to spend as much time in their stores as we wanted without any pressure to buy. The coffee was incidental. . Highly recommended. . Thank you for reading. Do follow if you came this far…😊', 'The combo offer may be extended to include some  other drinks as well, especially icy ones.', 'I ordered java chip Frappuccino and it was tasteless please provide a solution. I have tried this previously also but there is a lot of difference in taste ', '', '', 'Service and delivery is perfect but Chilli cheese toast are not chilli at all. Also i asked for double blend.', 'It was not at all fresh!', 'Only half cake and bad in condition', 'Too late in preparing drink', '', \"Whether it's buzzing or empty, the staff at the Kemps Corner Starbucks outlet is always warm, welcoming and cooperative. If you make a request, they're usually fairly prompt. Love the easy going vibe. Didn't like the food earlier and shared feedback awhile ago. Some of the new introductions like cheese croissants and apple croissant are quite nice. Lovely place to work at.\", 'I recieve the half cup of hot chocolate ,, as they take full money from me … the quantity was very less .. as v go personally at Starbucks they provide full glass and when I order it was half empty', '', '', 'Atleast put a decent amount of coffee. Tastes of just milk. Threw it', 'Wrong order', '', 'the order came without the milk. had clearly marked low fat milk but was missing in the order ', 'I added gifting card of bday and wrote one customized message. But no card was received. Whole purpose was to give card and say sorry', 'Too late', '', 'No straw! ', '', 'It was not fresh and i threw it not good as always very bad experience having it this time hate it', 'Send me another cappuccino', 'gave me the wring coffee without hazelnut syrup ', 'not made well', '', '', 'Packing was not properly', 'awesome delivery', 'But the delivery guy was good thats why im giving 5 stars', '', '', 'Superbly made and packed', 'Order is always delayed. Why charge high delivery charges if order is always delayed in preparation.', 'Order grande, was given small.', 'I’ve had this around 400 times. But this time there was Very little coffee and it was too sweet', '', '', 'Coffee was strong and good and the thing which I like the most was bits of choco chips which came while drinking coffee', '', '', '', 'Very sweet. I think sugar was added twice', 'Excellent, exemplary packaging. never seen so much attention to detail in food packaging before. even a tiny scoop of ice cream was packed with an ice pack and send. absolutely impressed', 'Toooooooooooo good. ', 'should have sent the straw. ruined my experience with this no cutlery BS.', '', '', '', '', '', '', '', 'packaging was not good , also i didnt reveived straw with it', 'I can’t believe this! This is the second time that I’ve receive half of what I would usually receive. I am going to lodge a complaint with the grievance committee. Very very disappointed', 'The quantity is half of what I should get. This is unacceptable Just because we order at home, they can’t give us less, we are paying the same amount.', 'Quick delivery and delivered hot. Thanks to Starbucks and Zomato tie up that we can have our cup of coffee at our suitable time.', 'we request for no sugar. However coffee was too sweet.', 'we ordered this ice cream tub & they gave literally half the quantity money completely wasted we ordered for 400 & they sent 270 & even have the audacity to say 400 equals to 270 even Google says no ', \"coffee was  overflowing n handled badly leaked all over was very messy didn't taste so good like the normal caramel macchiato disappointed with the taste \", 'there was spilling in the box which made the glass very sticky a lot of juice is wasted', 'thankyou for adding the message as wanted, thanks ', 'this always comes with whipped cream!....all my previous orders have Whipped cream on top!...', 'Its a great place to order a delicious food, beverage and my fav javachip icream is really awesome..... Great packaging ', 'it was very watery watery , I always drink that first time I felt very bad experience', 'Pls care about customization.I told less milk, was full milk', 'Ordered two cups of hot chocolates and out of which one was not filled fully. after paying high, why do they provide less quantity?', '', '', '', '', '', '', '', '', '', '', '', '', '', '', '', '', '', '', '', '', '', '', '', '', '', '', 'This is another great place to hang out with friends and chill out and enjoy the cold coffee. My favorite here is Cold Coffee, Tandoori Paneer Sandwich and New York Cheese Cake. The place is in a very posh area and is on the first floor, next to the Kemps Corner Bridge. The staff is very nice, friendly and helpful. The store manager ensures the store is having a lovely atmosphere. And the staff is very kind and always greet you with a huge smile and make your stress go away. Thank You Starbucks.', 'Located near crosswords and hobby ideas at kemps corner. They have a great ambience. the atmosphere is so good that people sit here for hours. it maintains hygiene and also provides wifi so you can sit and work while sipping their coffee. its a little expensive but its worth sitting with your friends for hours. If you love coffee, this place is for you. The containers and paper bags also look so presentable. ', 'Simply yummy.Starbucks is always fabulous ', '', '', '', \"Who doesn't love starbucks?!One of the prefect places to hang out with your friends with delicious coffe in front you.Java chip has always been my order.Ambience is very cute and cozy.Always filled with young crowdA bang for the price.❤\", 'Amazing experience having coffee at Starbucks. Good quality espresso shot. Good quality beans used and amazing taste. Good ambiance and great service. Ratings as per me : Coffee 5/5, Food 4/5, Service 4.5/5 , ambiance 4/5 & Overall experience 4.5/5. One should visit here and taste the amazing coffee...', '', \"Paradise for coffee lover's.My all time favourite items are Choco Java Chip,Caramel Java Chip and Red Velvet Cheesecake. But for a change I tried Caramel Macchiato and it was nice.My overall experience was 4.5/5.\", '', '', '\"When life gives you anything from Starbucks, drink it.\". 🤪🤪Starbucks was founded around the experience and the environment of its stores. Starbucks was about a space with comfortable chairs, lots of power outlets, tables and desks at which we could work and the option to spend as much time in their stores as we wanted without any pressure to buy. The coffee was incidental.', '', '', '', \"The store is just near my work place which means it's my go to place for coffee😊very friendly,jolly and helpful staff with great coffee and savory menu.\", '', '', \"Starbucks is a great place to hang out with your closest pals and the new range of coffee flavours are worth dying for! I can't function without a Starbucks Coffee and it totally livens me up! The ambience is warm and welcoming and I would totally recommend this cafe! ❤😍\", 'Ambiance - 5/5Cost - 4/5Service - 4/5Food - 4/5The staff is very polite and friendly. We ordered Java chip frappe. Overall it was a good experience.', \"Summer coolers is a for everybody, legends opt for frappes by Starbucks! We are sooo glued to the newly introduced triple mocha by Starbucks that we can't stop ourselves from making the visits. You have got to try this one out!\", 'Much needed coffee shop in this neighbourhood. Starbucks is Starbucks, I gave this location 1 star down because of the first floor non-prime location.The coffee is great, I wish the sandwiches were less \"bready\". ', 'One of my favourite starbucks. Their staff is super friendly and their service is super fast. Their location is awesome and i have had a great experience everytime i went there.', 'Cleanliness: 3/5 - table was not cleanedFood : 4/5Ambience : 3/5 - few tables were placed very near to each other.Ordered:1. Starbucks Frappuccino comes in glass bottle2. Caffe Mocha - cold3. Strawberries and Creme4. Mozzarella cheese and tomato sandwich.Take away pictures.', \"One of the best Starbucks experience. This one is usually quite with a bit good and quiet crowd. It's great to go there on date for a coffee and hang out of with friends as well. \", 'My all time favourite drink “CARAMEL JAVA CHIP” .It’s true. The perfect cup of coffee and a wholesome, delicious snack can make your day. Loveeeeeeeee ', \"This starbucks is pretty small and cramped compared to other outlets..Starbucks being starbucks, sells its drinks at a quite high price , (personally , its fricking overpriced) . I'd suggest you go to some other Cafe in the area as this doesn't live up to its hype. \", 'The best place to hangour with friends or could just chill on your own(yeah the coffee is that good).. enjoyed every moment and it turned out to be this coffee at 100 day.. what a day... the coffee the food the desserts.. u can call it heaven... ❤', 'Well whenever I have a craving for coffee Starbucks provide the amazing double chocolate coffee which I prefer and also java chip frapuccino is good😋', 'I really love coming here as whenever i enter this place and people recognise me feels very positive. Inspite of seeing so many faces daily the staff knowing you by the name is totally 5/5. I come here with friends and family and over this weekend i have been coming to work on my laptop and trust me the vibe is amazing. This place has actually become my 3rd place to be after Home and Office.', \"It's a fine place. I have been here several times. I don't like the service. They never clear the table in proper time. I have to ask them twice. There is nothing to say about preparation as it's done with some standard measurements. So that will be same.Fine the place has space and nice decor \", 'Nice place to have coffee. And they have a very nice coffee counter. And one good thing about Starbucks, they are always consistent. And the cookies are lovely. ', 'Starbucks is the love ❣️If we were in Mumbai n we haven’t  visit Starbucks then we feel regretful Starbucks don’t make coffee it makes emotions I guess Starbucks is the bae', 'People say Starbucks is over rated and expensive but for me Starbucks will always be one that serves my favorite coffee.Things I love here:Amazing Java Chip frappCaramel FrappHot chocolateIt is a perfect place to chill out with your friends.Sit for hours sipping your favorite coffee.😍😍', 'Recent opening of the Starbucks, Kemps Corner In particular made me quite thrilled as not only is it the closest Starbucks to my home but also they serve non vegetarian food unlike the one at chowpatty which was earlier the closest to place.It’s opened right adjacent to the doolally Kemp’s Corner which is again were I frequent very often. This particularly has become a hub for youngsters to relax after a stressful day at work and catch up with fiends or even catch up with work sometimes at the same time grab a coffee or two with some snacks. The food at Starbucks is not only delicious but also healthy. Almost all the snacks are made of multigrain or oats with egg white etc. which...read more', \"I have always seen the Kemps Corner Starbucks from the bridge but never really had the time to walk in. It looks super pretty at night!I was around the corner and needed a place to finish some urgent work. So I headed down to this place. It's really well lit, And very spaced out. But I would recommend a bigger community table. Like is available at the other outlets.I tried the Macadamia Cocoa Cappuccino. Which is a new drink on the menu. But I didn't quite like it. Other than that I really loved my hot chocolate.Nice place to be when you have work to complete. The environment is super work friendly. Next door is a doollaly so have some dogs to play around with in the passage. \", 'Starbucks recently opened a branch in Kemps Corner and we visited this place for a conversation over coffee. The place is nice with comfortable seating and we were happy to sip over the hot chocolate and strawberry smoothie - both of which were delicious. We saw many people be it college students to professionals to couples who visit this place and unwind themselves with the coffee while they chat or work on their laptops.', 'Everyone knows about Starbucks. They have the best coffee ever. My favorites are the white mocha and the matcha espresso brew(cold). Like their cheesecake and sandwiches too', 'Though remotely located yet awesomeLess crowded and peacefulCan enjoy coffee and hav a great conv Great place for couplesOne of the finest branches in the city ', 'Need to visit all the Starbucks in town, so here we are... came for desserts.. had to have our fav Blueberry Cheesecake 11/10 😜 but yeah I must add the cheesecake here was super fresh so we were forced to order another one ❤️. We also tried the Irish Cake, was superrrr yummm coming back for this one. Varun Sonaiya Aashika Jain']\n"
     ]
    }
   ],
   "source": [
    "print(reviews)"
   ]
  },
  {
   "cell_type": "code",
   "execution_count": 19,
   "id": "38fed267-d7e6-4c80-9e2b-3cd54f59fbc6",
   "metadata": {},
   "outputs": [
    {
     "name": "stdout",
     "output_type": "stream",
     "text": [
      "Defaulting to user installation because normal site-packages is not writeable\n",
      "Requirement already satisfied: pandas in c:\\users\\sneha gawas\\appdata\\roaming\\python\\python311\\site-packages (2.1.4)\n",
      "Collecting emoji\n",
      "  Downloading emoji-2.12.1-py3-none-any.whl.metadata (5.4 kB)\n",
      "Requirement already satisfied: numpy<2,>=1.23.2 in c:\\users\\sneha gawas\\appdata\\roaming\\python\\python311\\site-packages (from pandas) (1.25.2)\n",
      "Requirement already satisfied: python-dateutil>=2.8.2 in c:\\users\\sneha gawas\\appdata\\roaming\\python\\python311\\site-packages (from pandas) (2.8.2)\n",
      "Requirement already satisfied: pytz>=2020.1 in c:\\users\\sneha gawas\\appdata\\roaming\\python\\python311\\site-packages (from pandas) (2023.3)\n",
      "Requirement already satisfied: tzdata>=2022.1 in c:\\users\\sneha gawas\\appdata\\roaming\\python\\python311\\site-packages (from pandas) (2023.3)\n",
      "Requirement already satisfied: typing-extensions>=4.7.0 in c:\\users\\sneha gawas\\appdata\\roaming\\python\\python311\\site-packages (from emoji) (4.9.0)\n",
      "Requirement already satisfied: six>=1.5 in c:\\users\\sneha gawas\\appdata\\roaming\\python\\python311\\site-packages (from python-dateutil>=2.8.2->pandas) (1.16.0)\n",
      "Downloading emoji-2.12.1-py3-none-any.whl (431 kB)\n",
      "   ---------------------------------------- 0.0/431.4 kB ? eta -:--:--\n",
      "   ------- -------------------------------- 81.9/431.4 kB 4.5 MB/s eta 0:00:01\n",
      "   -------- ------------------------------- 92.2/431.4 kB 2.6 MB/s eta 0:00:01\n",
      "   ---------------- ----------------------- 174.1/431.4 kB 1.5 MB/s eta 0:00:01\n",
      "   ----------------------- ---------------- 256.0/431.4 kB 1.6 MB/s eta 0:00:01\n",
      "   -------------------------- ------------- 286.7/431.4 kB 1.4 MB/s eta 0:00:01\n",
      "   ------------------------------------ --- 389.1/431.4 kB 1.4 MB/s eta 0:00:01\n",
      "   ---------------------------------------- 431.4/431.4 kB 1.5 MB/s eta 0:00:00\n",
      "Installing collected packages: emoji\n",
      "Successfully installed emoji-2.12.1\n",
      "Note: you may need to restart the kernel to use updated packages.\n"
     ]
    },
    {
     "name": "stderr",
     "output_type": "stream",
     "text": [
      "\n",
      "[notice] A new release of pip is available: 24.0 -> 24.2\n",
      "[notice] To update, run: python.exe -m pip install --upgrade pip\n"
     ]
    }
   ],
   "source": [
    "pip install pandas emoji\n"
   ]
  },
  {
   "cell_type": "code",
   "execution_count": 6,
   "id": "1bc3847f-7247-4ea7-83d3-e492a97a837e",
   "metadata": {},
   "outputs": [],
   "source": [
    "import emoji\n",
    "def remove_emojis(text):\n",
    "    return ''.join(c for c in text if c not in emoji.EMOJI_DATA)\n",
    "cleaned_reviews = [remove_emojis(review) for review in reviews]"
   ]
  },
  {
   "cell_type": "code",
   "execution_count": 7,
   "id": "8c427ae7-8146-45bd-8038-144fb6283b47",
   "metadata": {},
   "outputs": [
    {
     "name": "stdout",
     "output_type": "stream",
     "text": [
      "                                              Review\n",
      "0  Called for a cold match  latte. It was so swee...\n",
      "1                                                   \n",
      "2                    Coffee arrived open and spilled\n",
      "3      Not the usual Java Chip. Something was wrong!\n",
      "4  The coffee was extremely sweet and watery. Cou...\n"
     ]
    }
   ],
   "source": [
    "import pandas as pd\n",
    "df = pd.DataFrame(cleaned_reviews, columns=[\"Review\"])\n",
    "#df = df[df[\"Review\"].str.strip().astype(bool)]\n",
    "    \n",
    "print(df.head())  "
   ]
  },
  {
   "cell_type": "code",
   "execution_count": 8,
   "id": "001fd26b-6f3f-47a7-8548-10ed515a3b1e",
   "metadata": {},
   "outputs": [
    {
     "name": "stdout",
     "output_type": "stream",
     "text": [
      "['Called for a cold match  latte. It was so sweet felt like puking. Waste of money.', '', 'Coffee arrived open and spilled', 'Not the usual Java Chip. Something was wrong!', 'The coffee was extremely sweet and watery. Could not have it. Spoilt my experience.', 'coffee half filled and no milk in it', 'coffee is spilled and no straw how I am supposed to drink ?', '', 'The package was broken and so was the seal', '', 'Completely different taste. Not at all proper.', \"just because the menu price was 190, doesn't mean the coffee should also taste discounted. Horrible taste.\", 'absolutely lousy', '', '', 'not hot as requested', '', '', 'The whipped cream tasted sour', '', 'I love Starbuck’s Java Chip', '', '', '', 'The taste is horrible not the exact caramel frapaccino and to top off they didn’t even send the straw how does one drink it  ? Open the lid and drink like hot coffee yuck.', 'my order was awesome. thank you star bucks ', 'Package was open and spilled.', '', '', '', 'the delivery partner was supposed to give change back, which he never did ', 'not strong enough and not hot could gulp it down on one sip', 'no straw was given neither sugar was given nor any spoon and it was like a ice-cream more than a coffee ', '', '', 'Yummy', 'When we r ordering two coffee why you are giving one stick & single sugar packet…', 'the deliver was very fast and the coffee was safely delivered to me! ', '', '', 'cookie was very hard.probably old', 'Completely leaked. ', 'Coffee was only half', '', '', 'Very bad packaging. The glue spikes the glass', 'not very tasty. ', 'They just totally forgot to seal there hot drink recieved an empty cup', 'There is no straw or tissue', 'The coffee glass was less than half full', '', 'Less portion & was cold. I had ordered HOT chocolate but when it got delivered was very cold', '', 'Wrong item delivered (1 coffee) instead of 2. Spilled contents. Rude delivery person. ', 'Vietnamese latte was lukewarm. ', '', '', 'watery ..', 'The drink was just half it was spilled', '', '', \"I specifically asked for no whipped cream to be added but my coffee came with loads of whipped cream. I'm allergic to it so I couldn't have the coffee 😔\", 'good day! please explain why the portion size is smaller with each order? We ordered two drinks of the same size! olin came in a normal size, and the second drink was smaller. This is the second time this has happened. It was the same last time.', 'Unbelievably sweet …. Disappointing', 'Wrong items delivered ', 'Drink was too watery even after mixing the whip cream. Expected it to be thicker.', 'Wrong order sent', '', '', '', '', '', 'the coffee had no taste and no Java chips!', '', 'Once more. Why were my cooking instructions not followed?', '', \"75 percent is ice there's no coffee milk anythg extremtly sweet not acceptable from Starbucks\", 'Portion of the coffee was half, it was an ice blended Frappuccino but completely liquid.', 'was delivered wrong order and the other one was too good', '', '', 'no flavor at all in the vanilla cold brew.no vanilla flavor, no sweetness, all watery drink', '', '', '', '', 'pathetic', 'The cup was half filled which is surprising .  I order frequently from Starbucks and this is the first time this happened', 'did not provide essential cutlery for order', 'no straw pls check the order nicely thank u', '', 'Food instructions were not followed. Hot chocolate has no sweetness. We had ordered regular hot chocolate.', '', 'so much ice was added', '', 'Unsealed glass. Spilled coffee. ', '', 'Seal broken on paper bag. Glass damaged. Sub standard packaging. ', '', '', '', \"it's tall size I ordered for bigger \", 'Ordered for caramel Java chip and the coffee didn’t have even one Java chip', 'The toast was soggy and tasted extremely bad', '', 'tastes a bit weird, not sweet enough ', 'They didn’t send me my cupcakes and didn’t bother to even connect with me when I kept trying to call them. Horrible customer service after it being their fault!', 'Please improve you packaging the lid dose not close properly and the cardboard cover to hold hot glass is missing 👍 next time I order I hope it’s better', \"My coffee was spilled, seal was broken too. Upon asking the delivery partner the reason behind the seal being opened and the coffee being spilled, he replied saying that it is the restaurant's mistake and not his. A hot beverage is supposed to be sealed properly which was not the case today. Extremely disappointed I've never seen any Starbucks outlet serve me like this ever beforeVery poor service and packaging Not worth my money \", 'There was no whipped cream at all in my coffee. Horrible experience I paid for it and not getting.', 'Stale coffee', '', 'favorite ', '', 'Starbucks din add chocolate whipped cream in the drink ', '', '', 'my latte had no sugar in it', '', '', 'cappuccino was very bad and cold ', 'They didn’t even provide straw with the parcel I mean how to drink frappe without straw', 'They sent the wrong pastry', 'Package was not properly done everything was spilled in the bag', \"very mild no taste of coffee drinking plain milk only horrible experience n venti size it's less in portion \", 'Coffee was 30 percent empty', 'Too much sugar', 'Super fresh, perfect bread, lacked flavours', 'I want my money back fr the fradulant practice.. whats wrong.. this is the second time this is happening', '', 'My special instructions were not followed', '', 'The packaging for drinks is what impressed me and to give a rating 5 star for Starbucks.', 'I need a refund for the Coffee immediately!!', '', 'very sad with the wrong order inspite of giving specifications ', '', '', '', 'ordered a bigger size but received half empty cup.', '', 'Instruction not followed', 'Very rude and incompetent employees.Completely Underqualified, uneducated fools running the store.starbucks needs to implement customer feedback regarding their employees.', '', 'Not good taste', 'Frappuccino without a straw how do I drink it???', 'I would like to suggest that if incase when the order is wrongly made or some issue with cold and hot or not up to the mark the rejected food should not be thrown in the bin rather a seaparate box should be kept where all such food is donated to the needy people or given as charity which is untouched food/drink. ', 'Zomato as a company are becoming expert liars. Telling me delivery is before time and sending around 12-13 minutes late is UNACCEPTABLE. Now I don’t care who is responsible or what is the reason for delay, but it better not happen ever again.', 'took too much time at Starbucks ', 'Bottle was cracked.', '', 'When life gives you anything from Starbucks, drink it.\".Starbucks was founded around the experience and the environment of its stores. Starbucks was about a space with comfortable chairs, lots of power outlets, tables, and desks at which we could work and the option to spend as much time in their stores as we wanted without any pressure to buy. The coffee was incidental. . Highly recommended. . Thank you for reading. Do follow if you came this far…😊', 'The combo offer may be extended to include some  other drinks as well, especially icy ones.', 'I ordered java chip Frappuccino and it was tasteless please provide a solution. I have tried this previously also but there is a lot of difference in taste ', '', '', 'Service and delivery is perfect but Chilli cheese toast are not chilli at all. Also i asked for double blend.', 'It was not at all fresh!', 'Only half cake and bad in condition', 'Too late in preparing drink', '', \"Whether it's buzzing or empty, the staff at the Kemps Corner Starbucks outlet is always warm, welcoming and cooperative. If you make a request, they're usually fairly prompt. Love the easy going vibe. Didn't like the food earlier and shared feedback awhile ago. Some of the new introductions like cheese croissants and apple croissant are quite nice. Lovely place to work at.\", 'I recieve the half cup of hot chocolate ,, as they take full money from me … the quantity was very less .. as v go personally at Starbucks they provide full glass and when I order it was half empty', '', '', 'Atleast put a decent amount of coffee. Tastes of just milk. Threw it', 'Wrong order', '', 'the order came without the milk. had clearly marked low fat milk but was missing in the order ', 'I added gifting card of bday and wrote one customized message. But no card was received. Whole purpose was to give card and say sorry', 'Too late', '', 'No straw! ', '', 'It was not fresh and i threw it not good as always very bad experience having it this time hate it', 'Send me another cappuccino', 'gave me the wring coffee without hazelnut syrup ', 'not made well', '', '', 'Packing was not properly', 'awesome delivery', 'But the delivery guy was good thats why im giving 5 stars', '', '', 'Superbly made and packed', 'Order is always delayed. Why charge high delivery charges if order is always delayed in preparation.', 'Order grande, was given small.', 'I’ve had this around 400 times. But this time there was Very little coffee and it was too sweet', '', '', 'Coffee was strong and good and the thing which I like the most was bits of choco chips which came while drinking coffee', '', '', '', 'Very sweet. I think sugar was added twice', 'Excellent, exemplary packaging. never seen so much attention to detail in food packaging before. even a tiny scoop of ice cream was packed with an ice pack and send. absolutely impressed', 'Toooooooooooo good. ', 'should have sent the straw. ruined my experience with this no cutlery BS.', '', '', '', '', '', '', '', 'packaging was not good , also i didnt reveived straw with it', 'I can’t believe this! This is the second time that I’ve receive half of what I would usually receive. I am going to lodge a complaint with the grievance committee. Very very disappointed', 'The quantity is half of what I should get. This is unacceptable Just because we order at home, they can’t give us less, we are paying the same amount.', 'Quick delivery and delivered hot. Thanks to Starbucks and Zomato tie up that we can have our cup of coffee at our suitable time.', 'we request for no sugar. However coffee was too sweet.', 'we ordered this ice cream tub & they gave literally half the quantity money completely wasted we ordered for 400 & they sent 270 & even have the audacity to say 400 equals to 270 even Google says no ', \"coffee was  overflowing n handled badly leaked all over was very messy didn't taste so good like the normal caramel macchiato disappointed with the taste \", 'there was spilling in the box which made the glass very sticky a lot of juice is wasted', 'thankyou for adding the message as wanted, thanks ', 'this always comes with whipped cream!....all my previous orders have Whipped cream on top!...', 'Its a great place to order a delicious food, beverage and my fav javachip icream is really awesome..... Great packaging ', 'it was very watery watery , I always drink that first time I felt very bad experience', 'Pls care about customization.I told less milk, was full milk', 'Ordered two cups of hot chocolates and out of which one was not filled fully. after paying high, why do they provide less quantity?', '', '', '', '', '', '', '', '', '', '', '', '', '', '', '', '', '', '', '', '', '', '', '', '', '', '', 'This is another great place to hang out with friends and chill out and enjoy the cold coffee. My favorite here is Cold Coffee, Tandoori Paneer Sandwich and New York Cheese Cake. The place is in a very posh area and is on the first floor, next to the Kemps Corner Bridge. The staff is very nice, friendly and helpful. The store manager ensures the store is having a lovely atmosphere. And the staff is very kind and always greet you with a huge smile and make your stress go away. Thank You Starbucks.', 'Located near crosswords and hobby ideas at kemps corner. They have a great ambience. the atmosphere is so good that people sit here for hours. it maintains hygiene and also provides wifi so you can sit and work while sipping their coffee. its a little expensive but its worth sitting with your friends for hours. If you love coffee, this place is for you. The containers and paper bags also look so presentable. ', 'Simply yummy.Starbucks is always fabulous ', '', '', '', \"Who doesn't love starbucks?!One of the prefect places to hang out with your friends with delicious coffe in front you.Java chip has always been my order.Ambience is very cute and cozy.Always filled with young crowdA bang for the price.❤\", 'Amazing experience having coffee at Starbucks. Good quality espresso shot. Good quality beans used and amazing taste. Good ambiance and great service. Ratings as per me : Coffee 5/5, Food 4/5, Service 4.5/5 , ambiance 4/5 & Overall experience 4.5/5. One should visit here and taste the amazing coffee...', '', \"Paradise for coffee lover's.My all time favourite items are Choco Java Chip,Caramel Java Chip and Red Velvet Cheesecake. But for a change I tried Caramel Macchiato and it was nice.My overall experience was 4.5/5.\", '', '', '\"When life gives you anything from Starbucks, drink it.\". 🤪🤪Starbucks was founded around the experience and the environment of its stores. Starbucks was about a space with comfortable chairs, lots of power outlets, tables and desks at which we could work and the option to spend as much time in their stores as we wanted without any pressure to buy. The coffee was incidental.', '', '', '', \"The store is just near my work place which means it's my go to place for coffee😊very friendly,jolly and helpful staff with great coffee and savory menu.\", '', '', \"Starbucks is a great place to hang out with your closest pals and the new range of coffee flavours are worth dying for! I can't function without a Starbucks Coffee and it totally livens me up! The ambience is warm and welcoming and I would totally recommend this cafe! ❤😍\", 'Ambiance - 5/5Cost - 4/5Service - 4/5Food - 4/5The staff is very polite and friendly. We ordered Java chip frappe. Overall it was a good experience.', \"Summer coolers is a for everybody, legends opt for frappes by Starbucks! We are sooo glued to the newly introduced triple mocha by Starbucks that we can't stop ourselves from making the visits. You have got to try this one out!\", 'Much needed coffee shop in this neighbourhood. Starbucks is Starbucks, I gave this location 1 star down because of the first floor non-prime location.The coffee is great, I wish the sandwiches were less \"bready\". ', 'One of my favourite starbucks. Their staff is super friendly and their service is super fast. Their location is awesome and i have had a great experience everytime i went there.', 'Cleanliness: 3/5 - table was not cleanedFood : 4/5Ambience : 3/5 - few tables were placed very near to each other.Ordered:1. Starbucks Frappuccino comes in glass bottle2. Caffe Mocha - cold3. Strawberries and Creme4. Mozzarella cheese and tomato sandwich.Take away pictures.', \"One of the best Starbucks experience. This one is usually quite with a bit good and quiet crowd. It's great to go there on date for a coffee and hang out of with friends as well. \", 'My all time favourite drink “CARAMEL JAVA CHIP” .It’s true. The perfect cup of coffee and a wholesome, delicious snack can make your day. Loveeeeeeeee ', \"This starbucks is pretty small and cramped compared to other outlets..Starbucks being starbucks, sells its drinks at a quite high price , (personally , its fricking overpriced) . I'd suggest you go to some other Cafe in the area as this doesn't live up to its hype. \", 'The best place to hangour with friends or could just chill on your own(yeah the coffee is that good).. enjoyed every moment and it turned out to be this coffee at 100 day.. what a day... the coffee the food the desserts.. u can call it heaven... ❤', 'Well whenever I have a craving for coffee Starbucks provide the amazing double chocolate coffee which I prefer and also java chip frapuccino is good😋', 'I really love coming here as whenever i enter this place and people recognise me feels very positive. Inspite of seeing so many faces daily the staff knowing you by the name is totally 5/5. I come here with friends and family and over this weekend i have been coming to work on my laptop and trust me the vibe is amazing. This place has actually become my 3rd place to be after Home and Office.', \"It's a fine place. I have been here several times. I don't like the service. They never clear the table in proper time. I have to ask them twice. There is nothing to say about preparation as it's done with some standard measurements. So that will be same.Fine the place has space and nice decor \", 'Nice place to have coffee. And they have a very nice coffee counter. And one good thing about Starbucks, they are always consistent. And the cookies are lovely. ', 'Starbucks is the love ❣️If we were in Mumbai n we haven’t  visit Starbucks then we feel regretful Starbucks don’t make coffee it makes emotions I guess Starbucks is the bae', 'People say Starbucks is over rated and expensive but for me Starbucks will always be one that serves my favorite coffee.Things I love here:Amazing Java Chip frappCaramel FrappHot chocolateIt is a perfect place to chill out with your friends.Sit for hours sipping your favorite coffee.😍😍', 'Recent opening of the Starbucks, Kemps Corner In particular made me quite thrilled as not only is it the closest Starbucks to my home but also they serve non vegetarian food unlike the one at chowpatty which was earlier the closest to place.It’s opened right adjacent to the doolally Kemp’s Corner which is again were I frequent very often. This particularly has become a hub for youngsters to relax after a stressful day at work and catch up with fiends or even catch up with work sometimes at the same time grab a coffee or two with some snacks. The food at Starbucks is not only delicious but also healthy. Almost all the snacks are made of multigrain or oats with egg white etc. which...read more', \"I have always seen the Kemps Corner Starbucks from the bridge but never really had the time to walk in. It looks super pretty at night!I was around the corner and needed a place to finish some urgent work. So I headed down to this place. It's really well lit, And very spaced out. But I would recommend a bigger community table. Like is available at the other outlets.I tried the Macadamia Cocoa Cappuccino. Which is a new drink on the menu. But I didn't quite like it. Other than that I really loved my hot chocolate.Nice place to be when you have work to complete. The environment is super work friendly. Next door is a doollaly so have some dogs to play around with in the passage. \", 'Starbucks recently opened a branch in Kemps Corner and we visited this place for a conversation over coffee. The place is nice with comfortable seating and we were happy to sip over the hot chocolate and strawberry smoothie - both of which were delicious. We saw many people be it college students to professionals to couples who visit this place and unwind themselves with the coffee while they chat or work on their laptops.', 'Everyone knows about Starbucks. They have the best coffee ever. My favorites are the white mocha and the matcha espresso brew(cold). Like their cheesecake and sandwiches too', 'Though remotely located yet awesomeLess crowded and peacefulCan enjoy coffee and hav a great conv Great place for couplesOne of the finest branches in the city ', 'Need to visit all the Starbucks in town, so here we are... came for desserts.. had to have our fav Blueberry Cheesecake 11/10 😜 but yeah I must add the cheesecake here was super fresh so we were forced to order another one ❤️. We also tried the Irish Cake, was superrrr yummm coming back for this one. Varun Sonaiya Aashika Jain']\n"
     ]
    }
   ],
   "source": [
    "print(reviews)"
   ]
  },
  {
   "cell_type": "code",
   "execution_count": 10,
   "id": "c58538bd-f9bc-4173-a056-94b4349ebbf3",
   "metadata": {},
   "outputs": [
    {
     "name": "stdout",
     "output_type": "stream",
     "text": [
      "Defaulting to user installation because normal site-packages is not writeableNote: you may need to restart the kernel to use updated packages.\n",
      "\n",
      "Requirement already satisfied: clean-text in c:\\users\\sneha gawas\\appdata\\roaming\\python\\python311\\site-packages (0.6.0)\n",
      "Requirement already satisfied: emoji<2.0.0,>=1.0.0 in c:\\users\\sneha gawas\\appdata\\roaming\\python\\python311\\site-packages (from clean-text) (1.7.0)\n",
      "Requirement already satisfied: ftfy<7.0,>=6.0 in c:\\users\\sneha gawas\\appdata\\roaming\\python\\python311\\site-packages (from clean-text) (6.2.3)\n",
      "Requirement already satisfied: wcwidth<0.3.0,>=0.2.12 in c:\\users\\sneha gawas\\appdata\\roaming\\python\\python311\\site-packages (from ftfy<7.0,>=6.0->clean-text) (0.2.13)\n"
     ]
    },
    {
     "name": "stderr",
     "output_type": "stream",
     "text": [
      "\n",
      "[notice] A new release of pip is available: 24.0 -> 24.2\n",
      "[notice] To update, run: python.exe -m pip install --upgrade pip\n"
     ]
    }
   ],
   "source": [
    "pip install clean-text\n"
   ]
  },
  {
   "cell_type": "code",
   "execution_count": 20,
   "id": "76eb462b-495a-4c0c-8e5b-5b4393cc1f74",
   "metadata": {},
   "outputs": [
    {
     "name": "stdout",
     "output_type": "stream",
     "text": [
      "                                                Review\n",
      "0    Called for a cold match  latte. It was so swee...\n",
      "1                                                     \n",
      "2                      Coffee arrived open and spilled\n",
      "3        Not the usual Java Chip. Something was wrong!\n",
      "4    The coffee was extremely sweet and watery. Cou...\n",
      "..                                                 ...\n",
      "282  I have always seen the Kemps Corner Starbucks ...\n",
      "283  Starbucks recently opened a branch in Kemps Co...\n",
      "284  Everyone knows about Starbucks. They have the ...\n",
      "285  Though remotely located yet awesomeLess crowde...\n",
      "286  Need to visit all the Starbucks in town, so he...\n",
      "\n",
      "[287 rows x 1 columns]\n"
     ]
    }
   ],
   "source": [
    "df=pd.DataFrame(reviews,columns=[\"Review\"])\n",
    "print(df)"
   ]
  },
  {
   "cell_type": "code",
   "execution_count": 21,
   "id": "e5a6a5a6-ad2f-43b7-aebd-5f1c342f06be",
   "metadata": {},
   "outputs": [
    {
     "name": "stdout",
     "output_type": "stream",
     "text": [
      "                                                Review\n",
      "0    Called for a cold match  latte. It was so swee...\n",
      "1                                                     \n",
      "2                      Coffee arrived open and spilled\n",
      "3        Not the usual Java Chip. Something was wrong!\n",
      "4    The coffee was extremely sweet and watery. Cou...\n",
      "..                                                 ...\n",
      "282  I have always seen the Kemps Corner Starbucks ...\n",
      "283  Starbucks recently opened a branch in Kemps Co...\n",
      "284  Everyone knows about Starbucks. They have the ...\n",
      "285  Though remotely located yet awesomeLess crowde...\n",
      "286  Need to visit all the Starbucks in town, so he...\n",
      "\n",
      "[287 rows x 1 columns]\n"
     ]
    }
   ],
   "source": [
    "index_list = df[df['Review'].isnull()].index\n",
    "df.drop(index_list)\n",
    "print(df)"
   ]
  },
  {
   "cell_type": "code",
   "execution_count": 24,
   "id": "c791eaa6-7dd5-44f5-8969-2dadf89f9a73",
   "metadata": {},
   "outputs": [
    {
     "name": "stdout",
     "output_type": "stream",
     "text": [
      "                                                Review\n",
      "0    Called for a cold match  latte. It was so swee...\n",
      "1                                                     \n",
      "2                      Coffee arrived open and spilled\n",
      "3        Not the usual Java Chip. Something was wrong!\n",
      "4    The coffee was extremely sweet and watery. Cou...\n",
      "..                                                 ...\n",
      "282  I have always seen the Kemps Corner Starbucks ...\n",
      "283  Starbucks recently opened a branch in Kemps Co...\n",
      "284  Everyone knows about Starbucks. They have the ...\n",
      "285  Though remotely located yet awesomeLess crowde...\n",
      "286  Need to visit all the Starbucks in town, so he...\n",
      "\n",
      "[287 rows x 1 columns]\n"
     ]
    }
   ],
   "source": [
    "df_filtered=df.dropna()\n",
    "print(df_filtered)"
   ]
  },
  {
   "cell_type": "code",
   "execution_count": 26,
   "id": "408097a8-4d51-48bf-b630-0df8452c147d",
   "metadata": {},
   "outputs": [
    {
     "name": "stdout",
     "output_type": "stream",
     "text": [
      "Defaulting to user installation because normal site-packages is not writeable\n",
      "Collecting openpyxl\n",
      "  Downloading openpyxl-3.1.5-py2.py3-none-any.whl.metadata (2.5 kB)\n",
      "Collecting et-xmlfile (from openpyxl)\n",
      "  Downloading et_xmlfile-1.1.0-py3-none-any.whl.metadata (1.8 kB)\n",
      "Downloading openpyxl-3.1.5-py2.py3-none-any.whl (250 kB)\n",
      "   ---------------------------------------- 0.0/250.9 kB ? eta -:--:--\n",
      "   ---------------------------------------- 0.0/250.9 kB ? eta -:--:--\n",
      "   ---- ----------------------------------- 30.7/250.9 kB ? eta -:--:--\n",
      "   ---- ----------------------------------- 30.7/250.9 kB ? eta -:--:--\n",
      "   -------------- ------------------------ 92.2/250.9 kB 751.6 kB/s eta 0:00:01\n",
      "   -------------- ------------------------ 92.2/250.9 kB 751.6 kB/s eta 0:00:01\n",
      "   -------------- ------------------------ 92.2/250.9 kB 751.6 kB/s eta 0:00:01\n",
      "   --------------- ---------------------- 102.4/250.9 kB 393.8 kB/s eta 0:00:01\n",
      "   --------------- ---------------------- 102.4/250.9 kB 393.8 kB/s eta 0:00:01\n",
      "   --------------- ---------------------- 102.4/250.9 kB 393.8 kB/s eta 0:00:01\n",
      "   --------------- ---------------------- 102.4/250.9 kB 393.8 kB/s eta 0:00:01\n",
      "   --------------- ---------------------- 102.4/250.9 kB 393.8 kB/s eta 0:00:01\n",
      "   --------------- ---------------------- 102.4/250.9 kB 393.8 kB/s eta 0:00:01\n",
      "   --------------------- ---------------- 143.4/250.9 kB 266.2 kB/s eta 0:00:01\n",
      "   ----------------------- -------------- 153.6/250.9 kB 262.1 kB/s eta 0:00:01\n",
      "   ----------------------- -------------- 153.6/250.9 kB 262.1 kB/s eta 0:00:01\n",
      "   ----------------------- -------------- 153.6/250.9 kB 262.1 kB/s eta 0:00:01\n",
      "   ----------------------- -------------- 153.6/250.9 kB 262.1 kB/s eta 0:00:01\n",
      "   -------------------------- ----------- 174.1/250.9 kB 223.2 kB/s eta 0:00:01\n",
      "   --------------------------- ---------- 184.3/250.9 kB 214.1 kB/s eta 0:00:01\n",
      "   ------------------------------- ------ 204.8/250.9 kB 235.0 kB/s eta 0:00:01\n",
      "   ------------------------------- ------ 204.8/250.9 kB 235.0 kB/s eta 0:00:01\n",
      "   ------------------------------- ------ 204.8/250.9 kB 235.0 kB/s eta 0:00:01\n",
      "   ------------------------------- ------ 204.8/250.9 kB 235.0 kB/s eta 0:00:01\n",
      "   ---------------------------------- --- 225.3/250.9 kB 208.6 kB/s eta 0:00:01\n",
      "   ---------------------------------- --- 225.3/250.9 kB 208.6 kB/s eta 0:00:01\n",
      "   ---------------------------------- --- 225.3/250.9 kB 208.6 kB/s eta 0:00:01\n",
      "   -------------------------------------  245.8/250.9 kB 201.0 kB/s eta 0:00:01\n",
      "   -------------------------------------- 250.9/250.9 kB 200.1 kB/s eta 0:00:00\n",
      "Downloading et_xmlfile-1.1.0-py3-none-any.whl (4.7 kB)\n",
      "Installing collected packages: et-xmlfile, openpyxl\n",
      "Successfully installed et-xmlfile-1.1.0 openpyxl-3.1.5\n",
      "Note: you may need to restart the kernel to use updated packages.\n"
     ]
    },
    {
     "name": "stderr",
     "output_type": "stream",
     "text": [
      "\n",
      "[notice] A new release of pip is available: 24.0 -> 24.2\n",
      "[notice] To update, run: python.exe -m pip install --upgrade pip\n"
     ]
    }
   ],
   "source": [
    "pip install openpyxl"
   ]
  },
  {
   "cell_type": "code",
   "execution_count": 27,
   "id": "61227efc-9ede-4648-8781-f569b7e7e47c",
   "metadata": {},
   "outputs": [
    {
     "name": "stdout",
     "output_type": "stream",
     "text": [
      "DataFrame is written to Excel File successfully.\n"
     ]
    }
   ],
   "source": [
    "datatoexcel = pd.ExcelWriter('stars.xlsx')\n",
    "\n",
    "# write DataFrame to excel\n",
    "df.to_excel(datatoexcel)\n",
    "\n",
    "# save the excel\n",
    "datatoexcel.close()\n",
    "print('DataFrame is written to Excel File successfully.')"
   ]
  },
  {
   "cell_type": "code",
   "execution_count": null,
   "id": "d9335361-cc29-439a-a5b0-f1f29fa70744",
   "metadata": {},
   "outputs": [],
   "source": []
  }
 ],
 "metadata": {
  "kernelspec": {
   "display_name": "Python 3",
   "language": "python",
   "name": "python3"
  },
  "language_info": {
   "codemirror_mode": {
    "name": "ipython",
    "version": 3
   },
   "file_extension": ".py",
   "mimetype": "text/x-python",
   "name": "python",
   "nbconvert_exporter": "python",
   "pygments_lexer": "ipython3",
   "version": "3.11.4"
  }
 },
 "nbformat": 4,
 "nbformat_minor": 5
}
