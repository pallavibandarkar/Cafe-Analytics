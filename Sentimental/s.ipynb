{
 "cells": [
  {
   "cell_type": "code",
   "execution_count": 2,
   "metadata": {},
   "outputs": [
    {
     "data": {
      "text/html": [
       "<div>\n",
       "<style scoped>\n",
       "    .dataframe tbody tr th:only-of-type {\n",
       "        vertical-align: middle;\n",
       "    }\n",
       "\n",
       "    .dataframe tbody tr th {\n",
       "        vertical-align: top;\n",
       "    }\n",
       "\n",
       "    .dataframe thead th {\n",
       "        text-align: right;\n",
       "    }\n",
       "</style>\n",
       "<table border=\"1\" class=\"dataframe\">\n",
       "  <thead>\n",
       "    <tr style=\"text-align: right;\">\n",
       "      <th></th>\n",
       "      <th>coffee_shop_name</th>\n",
       "      <th>full_review_text</th>\n",
       "      <th>star_rating</th>\n",
       "    </tr>\n",
       "  </thead>\n",
       "  <tbody>\n",
       "    <tr>\n",
       "      <th>0</th>\n",
       "      <td>The Factory - Cafe With a Soul</td>\n",
       "      <td>11/25/2016 1 check-in Love love loved the atm...</td>\n",
       "      <td>5</td>\n",
       "    </tr>\n",
       "    <tr>\n",
       "      <th>1</th>\n",
       "      <td>The Factory - Cafe With a Soul</td>\n",
       "      <td>12/2/2016 Listed in Date Night: Austin, Ambia...</td>\n",
       "      <td>4</td>\n",
       "    </tr>\n",
       "    <tr>\n",
       "      <th>2</th>\n",
       "      <td>The Factory - Cafe With a Soul</td>\n",
       "      <td>11/30/2016 1 check-in Listed in Brunch Spots ...</td>\n",
       "      <td>4</td>\n",
       "    </tr>\n",
       "    <tr>\n",
       "      <th>3</th>\n",
       "      <td>The Factory - Cafe With a Soul</td>\n",
       "      <td>11/25/2016 Very cool decor! Good drinks Nice ...</td>\n",
       "      <td>2</td>\n",
       "    </tr>\n",
       "    <tr>\n",
       "      <th>4</th>\n",
       "      <td>The Factory - Cafe With a Soul</td>\n",
       "      <td>12/3/2016 1 check-in They are located within ...</td>\n",
       "      <td>4</td>\n",
       "    </tr>\n",
       "  </tbody>\n",
       "</table>\n",
       "</div>"
      ],
      "text/plain": [
       "                  coffee_shop_name  \\\n",
       "0  The Factory - Cafe With a Soul    \n",
       "1  The Factory - Cafe With a Soul    \n",
       "2  The Factory - Cafe With a Soul    \n",
       "3  The Factory - Cafe With a Soul    \n",
       "4  The Factory - Cafe With a Soul    \n",
       "\n",
       "                                    full_review_text  star_rating  \n",
       "0   11/25/2016 1 check-in Love love loved the atm...            5  \n",
       "1   12/2/2016 Listed in Date Night: Austin, Ambia...            4  \n",
       "2   11/30/2016 1 check-in Listed in Brunch Spots ...            4  \n",
       "3   11/25/2016 Very cool decor! Good drinks Nice ...            2  \n",
       "4   12/3/2016 1 check-in They are located within ...            4  "
      ]
     },
     "execution_count": 2,
     "metadata": {},
     "output_type": "execute_result"
    }
   ],
   "source": [
    "#yelp Coffee Reviews of various shops \n",
    "import pandas as pd\n",
    "df=pd.read_excel(\"yelp.xlsx\")\n",
    "df.head()\n"
   ]
  },
  {
   "cell_type": "code",
   "execution_count": 3,
   "metadata": {},
   "outputs": [
    {
     "data": {
      "text/html": [
       "<div>\n",
       "<style scoped>\n",
       "    .dataframe tbody tr th:only-of-type {\n",
       "        vertical-align: middle;\n",
       "    }\n",
       "\n",
       "    .dataframe tbody tr th {\n",
       "        vertical-align: top;\n",
       "    }\n",
       "\n",
       "    .dataframe thead th {\n",
       "        text-align: right;\n",
       "    }\n",
       "</style>\n",
       "<table border=\"1\" class=\"dataframe\">\n",
       "  <thead>\n",
       "    <tr style=\"text-align: right;\">\n",
       "      <th></th>\n",
       "      <th>Index</th>\n",
       "      <th>Reviews</th>\n",
       "    </tr>\n",
       "  </thead>\n",
       "  <tbody>\n",
       "    <tr>\n",
       "      <th>0</th>\n",
       "      <td>1</td>\n",
       "      <td>Called for a cold match  latte. It was so swee...</td>\n",
       "    </tr>\n",
       "    <tr>\n",
       "      <th>1</th>\n",
       "      <td>2</td>\n",
       "      <td>Coffee arrived open and spilled</td>\n",
       "    </tr>\n",
       "    <tr>\n",
       "      <th>2</th>\n",
       "      <td>3</td>\n",
       "      <td>Not the usual Java Chip. Something was wrong!</td>\n",
       "    </tr>\n",
       "    <tr>\n",
       "      <th>3</th>\n",
       "      <td>4</td>\n",
       "      <td>The coffee was extremely sweet and watery. Cou...</td>\n",
       "    </tr>\n",
       "    <tr>\n",
       "      <th>4</th>\n",
       "      <td>5</td>\n",
       "      <td>coffee half filled and no milk in it</td>\n",
       "    </tr>\n",
       "  </tbody>\n",
       "</table>\n",
       "</div>"
      ],
      "text/plain": [
       "   Index                                           Reviews \n",
       "0      1  Called for a cold match  latte. It was so swee...\n",
       "1      2                    Coffee arrived open and spilled\n",
       "2      3      Not the usual Java Chip. Something was wrong!\n",
       "3      4  The coffee was extremely sweet and watery. Cou...\n",
       "4      5               coffee half filled and no milk in it"
      ]
     },
     "execution_count": 3,
     "metadata": {},
     "output_type": "execute_result"
    }
   ],
   "source": [
    "#starbucks Coffee Reviews\n",
    "star=pd.read_excel(\"stars.xlsx\")\n",
    "star.head()"
   ]
  },
  {
   "cell_type": "code",
   "execution_count": 4,
   "metadata": {},
   "outputs": [
    {
     "data": {
      "image/png": "[encoded data removed]",
      "text/plain": [
       "<Figure size 1000x600 with 1 Axes>"
      ]
     },
     "metadata": {},
     "output_type": "display_data"
    }
   ],
   "source": [
    "from textblob import TextBlob\n",
    "import matplotlib.pyplot as plt\n",
    "import seaborn as sns\n",
    "\n",
    "\n",
    "\n",
    "# Step 2: Preprocess the data (you can add more advanced cleaning if needed)\n",
    "# For simplicity, we'll directly proceed with the TextBlob analysis on the review text.\n",
    "\n",
    "# Step 3: Perform sentiment analysis using TextBlob\n",
    "def get_sentiment(review):\n",
    "    analysis = TextBlob(review)\n",
    "    if analysis.sentiment.polarity > 0:\n",
    "        return 'Positive'\n",
    "    elif analysis.sentiment.polarity == 0:\n",
    "        return 'Neutral'\n",
    "    else:\n",
    "        return 'Negative'\n",
    "\n",
    "# Apply the sentiment function to each review in the dataset\n",
    "df['Sentiment'] = df['full_review_text'].apply(get_sentiment)\n",
    "\n",
    "# Step 4: Visualize the results\n",
    "# Plot the distribution of sentiments\n",
    "plt.figure(figsize=(10, 6))\n",
    "sns.countplot(x='Sentiment', data=df, palette='coolwarm')\n",
    "plt.title('Distribution of Sentiments in Coffee Shop Reviews')\n",
    "plt.xlabel('Sentiment')\n",
    "plt.ylabel('Count')\n",
    "plt.show()\n",
    "\n",
    "\n",
    "\n",
    "\n",
    "\n"
   ]
  },
  {
   "cell_type": "code",
   "execution_count": 37,
   "metadata": {},
   "outputs": [],
   "source": [
    "df.head()\n",
    "df.to_excel(\"Output.xlsx\")\n"
   ]
  },
  {
   "cell_type": "code",
   "execution_count": 45,
   "metadata": {},
   "outputs": [
    {
     "data": {
      "image/png": "[encoded data removed]",
      "text/plain": [
       "<Figure size 1000x600 with 1 Axes>"
      ]
     },
     "metadata": {},
     "output_type": "display_data"
    }
   ],
   "source": [
    "from textblob import TextBlob\n",
    "import matplotlib.pyplot as plt\n",
    "import seaborn as sns\n",
    "\n",
    "\n",
    "\n",
    "# Step 2: Preprocess the data (you can add more advanced cleaning if needed)\n",
    "# For simplicity, we'll directly proceed with the TextBlob analysis on the review text.\n",
    "\n",
    "# Step 3: Perform sentiment analysis using TextBlob\n",
    "def get_sentiment(review):\n",
    "    analysis = TextBlob(review)\n",
    "    if analysis.sentiment.polarity > 0:\n",
    "        return 'Positive'\n",
    "    elif analysis.sentiment.polarity == 0:\n",
    "        return 'Neutral'\n",
    "    else:\n",
    "        return 'Negative'\n",
    "\n",
    "# Apply the sentiment function to each review in the dataset\n",
    "star['Sentiment'] = star['Reviews '].apply(get_sentiment)\n",
    "\n",
    "# Step 4: Visualize the results\n",
    "# Plot the distribution of sentiments\n",
    "plt.figure(figsize=(10, 6))\n",
    "sns.countplot(x='Sentiment', data=star, palette='coolwarm')\n",
    "plt.title('Distribution of Sentiments in Coffee Shop Reviews')\n",
    "plt.xlabel('Sentiment')\n",
    "plt.ylabel('Count')\n",
    "plt.show()\n"
   ]
  },
  {
   "cell_type": "code",
   "execution_count": 28,
   "metadata": {},
   "outputs": [
    {
     "data": {
      "text/html": [
       "<div>\n",
       "<style scoped>\n",
       "    .dataframe tbody tr th:only-of-type {\n",
       "        vertical-align: middle;\n",
       "    }\n",
       "\n",
       "    .dataframe tbody tr th {\n",
       "        vertical-align: top;\n",
       "    }\n",
       "\n",
       "    .dataframe thead th {\n",
       "        text-align: right;\n",
       "    }\n",
       "</style>\n",
       "<table border=\"1\" class=\"dataframe\">\n",
       "  <thead>\n",
       "    <tr style=\"text-align: right;\">\n",
       "      <th></th>\n",
       "      <th>Index</th>\n",
       "      <th>Reviews</th>\n",
       "      <th>Sentiment</th>\n",
       "    </tr>\n",
       "  </thead>\n",
       "  <tbody>\n",
       "    <tr>\n",
       "      <th>0</th>\n",
       "      <td>1</td>\n",
       "      <td>Called for a cold match  latte. It was so swee...</td>\n",
       "      <td>Negative</td>\n",
       "    </tr>\n",
       "    <tr>\n",
       "      <th>1</th>\n",
       "      <td>2</td>\n",
       "      <td>Coffee arrived open and spilled</td>\n",
       "      <td>Neutral</td>\n",
       "    </tr>\n",
       "    <tr>\n",
       "      <th>2</th>\n",
       "      <td>3</td>\n",
       "      <td>Not the usual Java Chip. Something was wrong!</td>\n",
       "      <td>Negative</td>\n",
       "    </tr>\n",
       "    <tr>\n",
       "      <th>3</th>\n",
       "      <td>4</td>\n",
       "      <td>The coffee was extremely sweet and watery. Cou...</td>\n",
       "      <td>Positive</td>\n",
       "    </tr>\n",
       "    <tr>\n",
       "      <th>4</th>\n",
       "      <td>5</td>\n",
       "      <td>coffee half filled and no milk in it</td>\n",
       "      <td>Positive</td>\n",
       "    </tr>\n",
       "  </tbody>\n",
       "</table>\n",
       "</div>"
      ],
      "text/plain": [
       "   Index                                           Reviews  Sentiment\n",
       "0      1  Called for a cold match  latte. It was so swee...  Negative\n",
       "1      2                    Coffee arrived open and spilled   Neutral\n",
       "2      3      Not the usual Java Chip. Something was wrong!  Negative\n",
       "3      4  The coffee was extremely sweet and watery. Cou...  Positive\n",
       "4      5               coffee half filled and no milk in it  Positive"
      ]
     },
     "execution_count": 28,
     "metadata": {},
     "output_type": "execute_result"
    }
   ],
   "source": [
    "star.head()"
   ]
  },
  {
   "cell_type": "markdown",
   "metadata": {},
   "source": []
  },
  {
   "cell_type": "code",
   "execution_count": 53,
   "metadata": {},
   "outputs": [
    {
     "data": {
      "text/html": [
       "<div>\n",
       "<style scoped>\n",
       "    .dataframe tbody tr th:only-of-type {\n",
       "        vertical-align: middle;\n",
       "    }\n",
       "\n",
       "    .dataframe tbody tr th {\n",
       "        vertical-align: top;\n",
       "    }\n",
       "\n",
       "    .dataframe thead th {\n",
       "        text-align: right;\n",
       "    }\n",
       "</style>\n",
       "<table border=\"1\" class=\"dataframe\">\n",
       "  <thead>\n",
       "    <tr style=\"text-align: right;\">\n",
       "      <th></th>\n",
       "      <th>Index</th>\n",
       "      <th>Name</th>\n",
       "      <th>Overall_Rating</th>\n",
       "      <th>Cuisine</th>\n",
       "      <th>Rate for two</th>\n",
       "      <th>City</th>\n",
       "      <th>Review</th>\n",
       "    </tr>\n",
       "  </thead>\n",
       "  <tbody>\n",
       "    <tr>\n",
       "      <th>0</th>\n",
       "      <td>0</td>\n",
       "      <td>Oliver Brown</td>\n",
       "      <td>3.9</td>\n",
       "      <td>Cafe, Coffee, Shake, Juices, Beverages, Waffle...</td>\n",
       "      <td>500</td>\n",
       "      <td>ahmedabad</td>\n",
       "      <td>Been to this place 3-4 times. Prakash is alway...</td>\n",
       "    </tr>\n",
       "    <tr>\n",
       "      <th>1</th>\n",
       "      <td>1</td>\n",
       "      <td>Oliver Brown</td>\n",
       "      <td>3.9</td>\n",
       "      <td>Cafe, Coffee, Shake, Juices, Beverages, Waffle...</td>\n",
       "      <td>500</td>\n",
       "      <td>ahmedabad</td>\n",
       "      <td>I recently visited Oliver Brown on a weekend f...</td>\n",
       "    </tr>\n",
       "    <tr>\n",
       "      <th>2</th>\n",
       "      <td>2</td>\n",
       "      <td>Crush Coffee</td>\n",
       "      <td>3</td>\n",
       "      <td>Cafe, Shake, Beverages, Desserts</td>\n",
       "      <td>600</td>\n",
       "      <td>ahmedabad</td>\n",
       "      <td>Very watery ans thin shake</td>\n",
       "    </tr>\n",
       "    <tr>\n",
       "      <th>3</th>\n",
       "      <td>3</td>\n",
       "      <td>The Mohalla</td>\n",
       "      <td>3.8</td>\n",
       "      <td>Cafe</td>\n",
       "      <td>550</td>\n",
       "      <td>ahmedabad</td>\n",
       "      <td>it was not cheese burst pizza.. only cheeze wa...</td>\n",
       "    </tr>\n",
       "    <tr>\n",
       "      <th>4</th>\n",
       "      <td>4</td>\n",
       "      <td>The Mohalla</td>\n",
       "      <td>3.8</td>\n",
       "      <td>Cafe</td>\n",
       "      <td>550</td>\n",
       "      <td>ahmedabad</td>\n",
       "      <td>Yammi.,....test burger is best I love 💗 this B...</td>\n",
       "    </tr>\n",
       "  </tbody>\n",
       "</table>\n",
       "</div>"
      ],
      "text/plain": [
       "   Index          Name Overall_Rating  \\\n",
       "0      0  Oliver Brown            3.9   \n",
       "1      1  Oliver Brown            3.9   \n",
       "2      2  Crush Coffee              3   \n",
       "3      3   The Mohalla            3.8   \n",
       "4      4   The Mohalla            3.8   \n",
       "\n",
       "                                             Cuisine Rate for two       City  \\\n",
       "0  Cafe, Coffee, Shake, Juices, Beverages, Waffle...          500  ahmedabad   \n",
       "1  Cafe, Coffee, Shake, Juices, Beverages, Waffle...          500  ahmedabad   \n",
       "2                   Cafe, Shake, Beverages, Desserts          600  ahmedabad   \n",
       "3                                               Cafe          550  ahmedabad   \n",
       "4                                               Cafe          550  ahmedabad   \n",
       "\n",
       "                                              Review  \n",
       "0  Been to this place 3-4 times. Prakash is alway...  \n",
       "1  I recently visited Oliver Brown on a weekend f...  \n",
       "2                         Very watery ans thin shake  \n",
       "3  it was not cheese burst pizza.. only cheeze wa...  \n",
       "4  Yammi.,....test burger is best I love 💗 this B...  "
      ]
     },
     "execution_count": 53,
     "metadata": {},
     "output_type": "execute_result"
    }
   ],
   "source": [
    "r=pd.read_csv(\"reviews.csv\")\n",
    "r.head()"
   ]
  },
  {
   "cell_type": "code",
   "execution_count": 54,
   "metadata": {},
   "outputs": [
    {
     "name": "stdout",
     "output_type": "stream",
     "text": [
      "                                              Review\n",
      "0  Been to this place 3-4 times. Prakash is alway...\n",
      "1  I recently visited Oliver Brown on a weekend f...\n",
      "2                         Very watery ans thin shake\n",
      "3  it was not cheese burst pizza.. only cheeze wa...\n",
      "4  Yammi.,....test burger is best I love  this Be...\n"
     ]
    }
   ],
   "source": [
    "import emoji\n",
    "def remove_emojis(text):\n",
    "    return ''.join(c for c in text if c not in emoji.EMOJI_DATA)\n",
    "r['Review'] = r['Review'].apply(remove_emojis)\n",
    "\n",
    "# Step 3: Display the cleaned DataFrame\n",
    "print(r[['Review']].head()) "
   ]
  },
  {
   "cell_type": "code",
   "execution_count": 55,
   "metadata": {},
   "outputs": [
    {
     "data": {
      "image/png": "[encoded data removed]",
      "text/plain": [
       "<Figure size 1000x600 with 1 Axes>"
      ]
     },
     "metadata": {},
     "output_type": "display_data"
    }
   ],
   "source": [
    "from textblob import TextBlob\n",
    "import matplotlib.pyplot as plt\n",
    "import seaborn as sns\n",
    "\n",
    "\n",
    "\n",
    "# Step 2: Preprocess the data (you can add more advanced cleaning if needed)\n",
    "# For simplicity, we'll directly proceed with the TextBlob analysis on the review text.\n",
    "\n",
    "# Step 3: Perform sentiment analysis using TextBlob\n",
    "def get_sentiment(review):\n",
    "    analysis = TextBlob(review)\n",
    "    if analysis.sentiment.polarity > 0:\n",
    "        return 'Positive'\n",
    "    elif analysis.sentiment.polarity == 0:\n",
    "        return 'Neutral'\n",
    "    else:\n",
    "        return 'Negative'\n",
    "\n",
    "# Apply the sentiment function to each review in the dataset\n",
    "r['Sentiment'] = r['Review'].apply(get_sentiment)\n",
    "\n",
    "# Step 4: Visualize the results\n",
    "# Plot the distribution of sentiments\n",
    "plt.figure(figsize=(10, 6))\n",
    "sns.countplot(x='Sentiment', data=r, palette='coolwarm')\n",
    "plt.title('Distribution of Sentiments in Coffee Shop Reviews')\n",
    "plt.xlabel('Sentiment')\n",
    "plt.ylabel('Count')\n",
    "plt.show()\n"
   ]
  },
  {
   "cell_type": "code",
   "execution_count": 56,
   "metadata": {},
   "outputs": [],
   "source": [
    "r.to_excel(\"Output3.xlsx\")\n",
    "\n"
   ]
  },
  {
   "cell_type": "code",
   "execution_count": null,
   "metadata": {},
   "outputs": [],
   "source": []
  }
 ],
 "metadata": {
  "kernelspec": {
   "display_name": "Python 3",
   "language": "python",
   "name": "python3"
  },
  "language_info": {
   "codemirror_mode": {
    "name": "ipython",
    "version": 3
   },
   "file_extension": ".py",
   "mimetype": "text/x-python",
   "name": "python",
   "nbconvert_exporter": "python",
   "pygments_lexer": "ipython3",
   "version": "3.11.4"
  }
 },
 "nbformat": 4,
 "nbformat_minor": 2
}
