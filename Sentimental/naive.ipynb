{
 "cells": [
  {
   "cell_type": "code",
   "execution_count": 32,
   "metadata": {},
   "outputs": [
    {
     "name": "stdout",
     "output_type": "stream",
     "text": [
      "Index(['Unnamed: 0', 'Index', 'Reviews ', 'Sentiment'], dtype='object')\n"
     ]
    }
   ],
   "source": [
    "import pandas as pd\n",
    "star=pd.read_excel(\"Output2.xlsx\")\n",
    "print(star.columns)\n",
    "star.drop(columns=['Unnamed: 0'], inplace=True)\n"
   ]
  },
  {
   "cell_type": "code",
   "execution_count": 33,
   "metadata": {},
   "outputs": [
    {
     "data": {
      "text/html": [
       "<div>\n",
       "<style scoped>\n",
       "    .dataframe tbody tr th:only-of-type {\n",
       "        vertical-align: middle;\n",
       "    }\n",
       "\n",
       "    .dataframe tbody tr th {\n",
       "        vertical-align: top;\n",
       "    }\n",
       "\n",
       "    .dataframe thead th {\n",
       "        text-align: right;\n",
       "    }\n",
       "</style>\n",
       "<table border=\"1\" class=\"dataframe\">\n",
       "  <thead>\n",
       "    <tr style=\"text-align: right;\">\n",
       "      <th></th>\n",
       "      <th>Index</th>\n",
       "      <th>Reviews</th>\n",
       "      <th>Sentiment</th>\n",
       "    </tr>\n",
       "  </thead>\n",
       "  <tbody>\n",
       "    <tr>\n",
       "      <th>0</th>\n",
       "      <td>1</td>\n",
       "      <td>Called for a cold match  latte. It was so swee...</td>\n",
       "      <td>Negative</td>\n",
       "    </tr>\n",
       "    <tr>\n",
       "      <th>1</th>\n",
       "      <td>2</td>\n",
       "      <td>Coffee arrived open and spilled</td>\n",
       "      <td>Neutral</td>\n",
       "    </tr>\n",
       "    <tr>\n",
       "      <th>2</th>\n",
       "      <td>3</td>\n",
       "      <td>Not the usual Java Chip. Something was wrong!</td>\n",
       "      <td>Negative</td>\n",
       "    </tr>\n",
       "    <tr>\n",
       "      <th>3</th>\n",
       "      <td>4</td>\n",
       "      <td>The coffee was extremely sweet and watery. Cou...</td>\n",
       "      <td>Positive</td>\n",
       "    </tr>\n",
       "    <tr>\n",
       "      <th>4</th>\n",
       "      <td>5</td>\n",
       "      <td>coffee half filled and no milk in it</td>\n",
       "      <td>Positive</td>\n",
       "    </tr>\n",
       "  </tbody>\n",
       "</table>\n",
       "</div>"
      ],
      "text/plain": [
       "   Index                                           Reviews  Sentiment\n",
       "0      1  Called for a cold match  latte. It was so swee...  Negative\n",
       "1      2                    Coffee arrived open and spilled   Neutral\n",
       "2      3      Not the usual Java Chip. Something was wrong!  Negative\n",
       "3      4  The coffee was extremely sweet and watery. Cou...  Positive\n",
       "4      5               coffee half filled and no milk in it  Positive"
      ]
     },
     "execution_count": 33,
     "metadata": {},
     "output_type": "execute_result"
    }
   ],
   "source": [
    "star.head()"
   ]
  },
  {
   "cell_type": "code",
   "execution_count": 34,
   "metadata": {},
   "outputs": [
    {
     "name": "stderr",
     "output_type": "stream",
     "text": [
      "[nltk_data] Downloading package stopwords to C:\\Users\\SNEHA\n",
      "[nltk_data]     GAWAS\\AppData\\Roaming\\nltk_data...\n",
      "[nltk_data]   Package stopwords is already up-to-date!\n"
     ]
    },
    {
     "data": {
      "text/plain": [
       "True"
      ]
     },
     "execution_count": 34,
     "metadata": {},
     "output_type": "execute_result"
    }
   ],
   "source": [
    "import nltk\n",
    "nltk.download('stopwords')"
   ]
  },
  {
   "cell_type": "code",
   "execution_count": 36,
   "metadata": {},
   "outputs": [
    {
     "name": "stdout",
     "output_type": "stream",
     "text": [
      "0\n"
     ]
    }
   ],
   "source": [
    "print(star['Sentiment'].isna().sum())  # Check for NaN values in the Sentiment column\n"
   ]
  },
  {
   "cell_type": "code",
   "execution_count": 37,
   "metadata": {},
   "outputs": [
    {
     "name": "stderr",
     "output_type": "stream",
     "text": [
      "[nltk_data] Downloading package stopwords to C:\\Users\\SNEHA\n",
      "[nltk_data]     GAWAS\\AppData\\Roaming\\nltk_data...\n",
      "[nltk_data]   Package stopwords is already up-to-date!\n",
      "[nltk_data] Downloading package punkt to C:\\Users\\SNEHA\n",
      "[nltk_data]     GAWAS\\AppData\\Roaming\\nltk_data...\n",
      "[nltk_data]   Package punkt is already up-to-date!\n"
     ]
    },
    {
     "name": "stdout",
     "output_type": "stream",
     "text": [
      "Index(['Index', 'Reviews', 'Sentiment'], dtype='object')\n",
      "Accuracy: 0.6666666666666666\n",
      "Confusion Matrix:\n",
      " [[13  5]\n",
      " [ 6  9]]\n",
      "Classification Report:\n",
      "               precision    recall  f1-score   support\n",
      "\n",
      "           0       0.68      0.72      0.70        18\n",
      "           1       0.64      0.60      0.62        15\n",
      "\n",
      "    accuracy                           0.67        33\n",
      "   macro avg       0.66      0.66      0.66        33\n",
      "weighted avg       0.67      0.67      0.67        33\n",
      "\n"
     ]
    },
    {
     "data": {
      "image/png": "[encoded data removed]",
      "text/plain": [
       "<Figure size 1000x600 with 1 Axes>"
      ]
     },
     "metadata": {},
     "output_type": "display_data"
    }
   ],
   "source": [
    "import nltk\n",
    "from sklearn.model_selection import train_test_split\n",
    "from sklearn.feature_extraction.text import CountVectorizer\n",
    "from sklearn.naive_bayes import MultinomialNB\n",
    "from sklearn.metrics import accuracy_score, classification_report, confusion_matrix\n",
    "from nltk.corpus import stopwords\n",
    "\n",
    "# Download the stopwords\n",
    "\n",
    "# Step 1: Load the dataset (assuming 'full_review_text' is your review column)\n",
    "# df = pd.read_csv('your_dataset.csv')\n",
    "nltk.download('stopwords')\n",
    "nltk.download('punkt')  # For tokenization\n",
    "\n",
    "# Step 2: Preprocess the data\n",
    "def preprocess(text):\n",
    "    # Lowercase the text\n",
    "    text = text.lower()\n",
    "    \n",
    "    # Tokenize the text\n",
    "    tokens = nltk.word_tokenize(text)\n",
    "    \n",
    "    # Remove stopwords\n",
    "    tokens = [word for word in tokens if word.isalnum() and word not in stopwords.words('english')]\n",
    "    \n",
    "    # Join the tokens back into a single string\n",
    "    return ' '.join(tokens)\n",
    "\n",
    "# Load your dataset\n",
    "# df = pd.read_csv('your_dataset.csv')  # Uncomment and specify your dataset\n",
    "\n",
    "# Strip column names of any leading/trailing whitespace\n",
    "star.columns = star.columns.str.strip()\n",
    "\n",
    "# Check the column names to ensure 'Reviews' exists\n",
    "print(star.columns)\n",
    "\n",
    "# Ensure there are no NaN values in the Reviews column\n",
    "star['Reviews'] = star['Reviews'].fillna(\"\")  # Replace NaN with an empty string\n",
    "\n",
    "\n",
    "# Step 3: Convert sentiments to binary values (positive/negative) for simplicity\n",
    "star['Sentiment'] =star['Sentiment'].map({'Positive': 1, 'Negative': 0, 'Neutral': 0})  # You can adjust neutral as needed\n",
    "\n",
    "# Step 4: Vectorize the reviews (convert text into numerical features)\n",
    "vectorizer = CountVectorizer(max_features=3000)\n",
    "X = vectorizer.fit_transform(star['Reviews'])\n",
    "\n",
    "# Step 5: Split the dataset into training and testing sets\n",
    "X_train, X_test, y_train, y_test = train_test_split(X, star['Sentiment'], test_size=0.2, random_state=42)\n",
    "\n",
    "# Step 6: Train the Naive Bayes classifier\n",
    "nb_classifier = MultinomialNB()\n",
    "nb_classifier.fit(X_train, y_train)\n",
    "\n",
    "# Step 7: Make predictions on the test set\n",
    "y_pred = nb_classifier.predict(X_test)\n",
    "\n",
    "# Step 8: Evaluate the model\n",
    "print(f'Accuracy: {accuracy_score(y_test, y_pred)}')\n",
    "print(f'Confusion Matrix:\\n {confusion_matrix(y_test, y_pred)}')\n",
    "print(f'Classification Report:\\n {classification_report(y_test, y_pred)}')\n",
    "\n",
    "# Step 9: Visualize the sentiment predictions\n",
    "import matplotlib.pyplot as plt\n",
    "import seaborn as sns\n",
    "\n",
    "plt.figure(figsize=(10, 6))\n",
    "sns.countplot(x=y_pred, palette='coolwarm')\n",
    "plt.title('Sentiment Prediction Distribution')\n",
    "plt.xlabel('Sentiment (0=Negative/Neutral, 1=Positive)')\n",
    "plt.ylabel('Count')\n",
    "plt.show()"
   ]
  },
  {
   "cell_type": "code",
   "execution_count": 45,
   "metadata": {},
   "outputs": [
    {
     "name": "stdout",
     "output_type": "stream",
     "text": [
      "Index(['Unnamed: 0', 'coffee_shop_name', 'full_review_text', 'star_rating',\n",
      "       'Sentiment'],\n",
      "      dtype='object')\n"
     ]
    }
   ],
   "source": [
    "import pandas as pd\n",
    "df=pd.read_excel(\"Output.xlsx\")\n",
    "print(df.columns)\n",
    "df.drop(columns=['Unnamed: 0'], inplace=True)\n"
   ]
  },
  {
   "cell_type": "code",
   "execution_count": 46,
   "metadata": {},
   "outputs": [
    {
     "data": {
      "text/html": [
       "<div>\n",
       "<style scoped>\n",
       "    .dataframe tbody tr th:only-of-type {\n",
       "        vertical-align: middle;\n",
       "    }\n",
       "\n",
       "    .dataframe tbody tr th {\n",
       "        vertical-align: top;\n",
       "    }\n",
       "\n",
       "    .dataframe thead th {\n",
       "        text-align: right;\n",
       "    }\n",
       "</style>\n",
       "<table border=\"1\" class=\"dataframe\">\n",
       "  <thead>\n",
       "    <tr style=\"text-align: right;\">\n",
       "      <th></th>\n",
       "      <th>coffee_shop_name</th>\n",
       "      <th>full_review_text</th>\n",
       "      <th>star_rating</th>\n",
       "      <th>Sentiment</th>\n",
       "    </tr>\n",
       "  </thead>\n",
       "  <tbody>\n",
       "    <tr>\n",
       "      <th>0</th>\n",
       "      <td>The Factory - Cafe With a Soul</td>\n",
       "      <td>11/25/2016 1 check-in Love love loved the atm...</td>\n",
       "      <td>5</td>\n",
       "      <td>Positive</td>\n",
       "    </tr>\n",
       "    <tr>\n",
       "      <th>1</th>\n",
       "      <td>The Factory - Cafe With a Soul</td>\n",
       "      <td>12/2/2016 Listed in Date Night: Austin, Ambia...</td>\n",
       "      <td>4</td>\n",
       "      <td>Positive</td>\n",
       "    </tr>\n",
       "    <tr>\n",
       "      <th>2</th>\n",
       "      <td>The Factory - Cafe With a Soul</td>\n",
       "      <td>11/30/2016 1 check-in Listed in Brunch Spots ...</td>\n",
       "      <td>4</td>\n",
       "      <td>Positive</td>\n",
       "    </tr>\n",
       "    <tr>\n",
       "      <th>3</th>\n",
       "      <td>The Factory - Cafe With a Soul</td>\n",
       "      <td>11/25/2016 Very cool decor! Good drinks Nice ...</td>\n",
       "      <td>2</td>\n",
       "      <td>Positive</td>\n",
       "    </tr>\n",
       "    <tr>\n",
       "      <th>4</th>\n",
       "      <td>The Factory - Cafe With a Soul</td>\n",
       "      <td>12/3/2016 1 check-in They are located within ...</td>\n",
       "      <td>4</td>\n",
       "      <td>Positive</td>\n",
       "    </tr>\n",
       "  </tbody>\n",
       "</table>\n",
       "</div>"
      ],
      "text/plain": [
       "                  coffee_shop_name  \\\n",
       "0  The Factory - Cafe With a Soul    \n",
       "1  The Factory - Cafe With a Soul    \n",
       "2  The Factory - Cafe With a Soul    \n",
       "3  The Factory - Cafe With a Soul    \n",
       "4  The Factory - Cafe With a Soul    \n",
       "\n",
       "                                    full_review_text  star_rating Sentiment  \n",
       "0   11/25/2016 1 check-in Love love loved the atm...            5  Positive  \n",
       "1   12/2/2016 Listed in Date Night: Austin, Ambia...            4  Positive  \n",
       "2   11/30/2016 1 check-in Listed in Brunch Spots ...            4  Positive  \n",
       "3   11/25/2016 Very cool decor! Good drinks Nice ...            2  Positive  \n",
       "4   12/3/2016 1 check-in They are located within ...            4  Positive  "
      ]
     },
     "execution_count": 46,
     "metadata": {},
     "output_type": "execute_result"
    }
   ],
   "source": [
    "df.head()"
   ]
  },
  {
   "cell_type": "code",
   "execution_count": 47,
   "metadata": {},
   "outputs": [
    {
     "name": "stderr",
     "output_type": "stream",
     "text": [
      "[nltk_data] Downloading package stopwords to C:\\Users\\SNEHA\n",
      "[nltk_data]     GAWAS\\AppData\\Roaming\\nltk_data...\n",
      "[nltk_data]   Package stopwords is already up-to-date!\n",
      "[nltk_data] Downloading package punkt to C:\\Users\\SNEHA\n",
      "[nltk_data]     GAWAS\\AppData\\Roaming\\nltk_data...\n",
      "[nltk_data]   Package punkt is already up-to-date!\n"
     ]
    },
    {
     "name": "stdout",
     "output_type": "stream",
     "text": [
      "Index(['coffee_shop_name', 'full_review_text', 'star_rating', 'Sentiment'], dtype='object')\n",
      "Accuracy: 0.9343832020997376\n",
      "Confusion Matrix:\n",
      " [[  28   46]\n",
      " [  54 1396]]\n",
      "Classification Report:\n",
      "               precision    recall  f1-score   support\n",
      "\n",
      "           0       0.34      0.38      0.36        74\n",
      "           1       0.97      0.96      0.97      1450\n",
      "\n",
      "    accuracy                           0.93      1524\n",
      "   macro avg       0.65      0.67      0.66      1524\n",
      "weighted avg       0.94      0.93      0.94      1524\n",
      "\n"
     ]
    },
    {
     "data": {
      "image/png": "[encoded data removed]",
      "text/plain": [
       "<Figure size 1000x600 with 1 Axes>"
      ]
     },
     "metadata": {},
     "output_type": "display_data"
    }
   ],
   "source": [
    "import nltk\n",
    "from sklearn.model_selection import train_test_split\n",
    "from sklearn.feature_extraction.text import CountVectorizer\n",
    "from sklearn.naive_bayes import MultinomialNB\n",
    "from sklearn.metrics import accuracy_score, classification_report, confusion_matrix\n",
    "from nltk.corpus import stopwords\n",
    "\n",
    "# Download the stopwords\n",
    "\n",
    "# Step 1: Load the dataset (assuming 'full_review_text' is your review column)\n",
    "# df = pd.read_csv('your_dataset.csv')\n",
    "nltk.download('stopwords')\n",
    "nltk.download('punkt')  # For tokenization\n",
    "\n",
    "# Step 2: Preprocess the data\n",
    "def preprocess(text):\n",
    "    # Lowercase the text\n",
    "    text = text.lower()\n",
    "    \n",
    "    # Tokenize the text\n",
    "    tokens = nltk.word_tokenize(text)\n",
    "    \n",
    "    # Remove stopwords\n",
    "    tokens = [word for word in tokens if word.isalnum() and word not in stopwords.words('english')]\n",
    "    \n",
    "    # Join the tokens back into a single string\n",
    "    return ' '.join(tokens)\n",
    "\n",
    "# Load your dataset\n",
    "# df = pd.read_csv('your_dataset.csv')  # Uncomment and specify your dataset\n",
    "\n",
    "# Strip column names of any leading/trailing whitespace\n",
    "df.columns = df.columns.str.strip()\n",
    "\n",
    "# Check the column names to ensure 'Reviews' exists\n",
    "print(df.columns)\n",
    "\n",
    "# Ensure there are no NaN values in the Reviews column\n",
    "df['full_review_text'] = df['full_review_text'].fillna(\"\")  # Replace NaN with an empty string\n",
    "\n",
    "\n",
    "# Step 3: Convert sentiments to binary values (positive/negative) for simplicity\n",
    "df['Sentiment'] =df['Sentiment'].map({'Positive': 1, 'Negative': 0, 'Neutral': 0})  # You can adjust neutral as needed\n",
    "\n",
    "# Step 4: Vectorize the reviews (convert text into numerical features)\n",
    "vectorizer = CountVectorizer(max_features=3000)\n",
    "X = vectorizer.fit_transform(df['full_review_text'])\n",
    "\n",
    "# Step 5: Split the dataset into training and testing sets\n",
    "X_train, X_test, y_train, y_test = train_test_split(X, df['Sentiment'], test_size=0.2, random_state=42)\n",
    "\n",
    "# Step 6: Train the Naive Bayes classifier\n",
    "nb_classifier = MultinomialNB()\n",
    "nb_classifier.fit(X_train, y_train)\n",
    "\n",
    "# Step 7: Make predictions on the test set\n",
    "y_pred = nb_classifier.predict(X_test)\n",
    "\n",
    "# Step 8: Evaluate the model\n",
    "print(f'Accuracy: {accuracy_score(y_test, y_pred)}')\n",
    "print(f'Confusion Matrix:\\n {confusion_matrix(y_test, y_pred)}')\n",
    "print(f'Classification Report:\\n {classification_report(y_test, y_pred)}')\n",
    "\n",
    "# Step 9: Visualize the sentiment predictions\n",
    "import matplotlib.pyplot as plt\n",
    "import seaborn as sns\n",
    "\n",
    "plt.figure(figsize=(10, 6))\n",
    "sns.countplot(x=y_pred, palette='coolwarm')\n",
    "plt.title('Sentiment Prediction Distribution')\n",
    "plt.xlabel('Sentiment (0=Negative/Neutral, 1=Positive)')\n",
    "plt.ylabel('Count')\n",
    "plt.show()"
   ]
  },
  {
   "cell_type": "code",
   "execution_count": 56,
   "metadata": {},
   "outputs": [
    {
     "name": "stdout",
     "output_type": "stream",
     "text": [
      "Index(['Unnamed: 0', 'Index', 'Name', 'Overall_Rating', 'Cuisine',\n",
      "       'Rate for two', 'City', 'Review', 'Sentiment'],\n",
      "      dtype='object')\n"
     ]
    }
   ],
   "source": [
    "import pandas as pd\n",
    "a=pd.read_excel(\"Output3.xlsx\")\n",
    "print(a.columns)\n",
    "a.drop(columns=['Unnamed: 0'], inplace=True)\n"
   ]
  },
  {
   "cell_type": "code",
   "execution_count": 57,
   "metadata": {},
   "outputs": [
    {
     "data": {
      "text/html": [
       "<div>\n",
       "<style scoped>\n",
       "    .dataframe tbody tr th:only-of-type {\n",
       "        vertical-align: middle;\n",
       "    }\n",
       "\n",
       "    .dataframe tbody tr th {\n",
       "        vertical-align: top;\n",
       "    }\n",
       "\n",
       "    .dataframe thead th {\n",
       "        text-align: right;\n",
       "    }\n",
       "</style>\n",
       "<table border=\"1\" class=\"dataframe\">\n",
       "  <thead>\n",
       "    <tr style=\"text-align: right;\">\n",
       "      <th></th>\n",
       "      <th>Index</th>\n",
       "      <th>Name</th>\n",
       "      <th>Overall_Rating</th>\n",
       "      <th>Cuisine</th>\n",
       "      <th>Rate for two</th>\n",
       "      <th>City</th>\n",
       "      <th>Review</th>\n",
       "      <th>Sentiment</th>\n",
       "    </tr>\n",
       "  </thead>\n",
       "  <tbody>\n",
       "    <tr>\n",
       "      <th>0</th>\n",
       "      <td>0</td>\n",
       "      <td>Oliver Brown</td>\n",
       "      <td>3.9</td>\n",
       "      <td>Cafe, Coffee, Shake, Juices, Beverages, Waffle...</td>\n",
       "      <td>500</td>\n",
       "      <td>ahmedabad</td>\n",
       "      <td>Been to this place 3-4 times. Prakash is alway...</td>\n",
       "      <td>Positive</td>\n",
       "    </tr>\n",
       "    <tr>\n",
       "      <th>1</th>\n",
       "      <td>1</td>\n",
       "      <td>Oliver Brown</td>\n",
       "      <td>3.9</td>\n",
       "      <td>Cafe, Coffee, Shake, Juices, Beverages, Waffle...</td>\n",
       "      <td>500</td>\n",
       "      <td>ahmedabad</td>\n",
       "      <td>I recently visited Oliver Brown on a weekend f...</td>\n",
       "      <td>Positive</td>\n",
       "    </tr>\n",
       "    <tr>\n",
       "      <th>2</th>\n",
       "      <td>2</td>\n",
       "      <td>Crush Coffee</td>\n",
       "      <td>3</td>\n",
       "      <td>Cafe, Shake, Beverages, Desserts</td>\n",
       "      <td>600</td>\n",
       "      <td>ahmedabad</td>\n",
       "      <td>Very watery ans thin shake</td>\n",
       "      <td>Negative</td>\n",
       "    </tr>\n",
       "    <tr>\n",
       "      <th>3</th>\n",
       "      <td>3</td>\n",
       "      <td>The Mohalla</td>\n",
       "      <td>3.8</td>\n",
       "      <td>Cafe</td>\n",
       "      <td>550</td>\n",
       "      <td>ahmedabad</td>\n",
       "      <td>it was not cheese burst pizza.. only cheeze wa...</td>\n",
       "      <td>Positive</td>\n",
       "    </tr>\n",
       "    <tr>\n",
       "      <th>4</th>\n",
       "      <td>4</td>\n",
       "      <td>The Mohalla</td>\n",
       "      <td>3.8</td>\n",
       "      <td>Cafe</td>\n",
       "      <td>550</td>\n",
       "      <td>ahmedabad</td>\n",
       "      <td>Yammi.,....test burger is best I love  this Be...</td>\n",
       "      <td>Positive</td>\n",
       "    </tr>\n",
       "  </tbody>\n",
       "</table>\n",
       "</div>"
      ],
      "text/plain": [
       "   Index          Name Overall_Rating  \\\n",
       "0      0  Oliver Brown            3.9   \n",
       "1      1  Oliver Brown            3.9   \n",
       "2      2  Crush Coffee              3   \n",
       "3      3   The Mohalla            3.8   \n",
       "4      4   The Mohalla            3.8   \n",
       "\n",
       "                                             Cuisine Rate for two       City  \\\n",
       "0  Cafe, Coffee, Shake, Juices, Beverages, Waffle...          500  ahmedabad   \n",
       "1  Cafe, Coffee, Shake, Juices, Beverages, Waffle...          500  ahmedabad   \n",
       "2                   Cafe, Shake, Beverages, Desserts          600  ahmedabad   \n",
       "3                                               Cafe          550  ahmedabad   \n",
       "4                                               Cafe          550  ahmedabad   \n",
       "\n",
       "                                              Review Sentiment  \n",
       "0  Been to this place 3-4 times. Prakash is alway...  Positive  \n",
       "1  I recently visited Oliver Brown on a weekend f...  Positive  \n",
       "2                         Very watery ans thin shake  Negative  \n",
       "3  it was not cheese burst pizza.. only cheeze wa...  Positive  \n",
       "4  Yammi.,....test burger is best I love  this Be...  Positive  "
      ]
     },
     "execution_count": 57,
     "metadata": {},
     "output_type": "execute_result"
    }
   ],
   "source": [
    "a.head()"
   ]
  },
  {
   "cell_type": "code",
   "execution_count": 59,
   "metadata": {},
   "outputs": [
    {
     "name": "stdout",
     "output_type": "stream",
     "text": [
      "Index(['Index', 'Name', 'Overall_Rating', 'Cuisine', 'Rate for two', 'City',\n",
      "       'Review', 'Sentiment'],\n",
      "      dtype='object')\n",
      "Accuracy: 0.864516129032258\n",
      "Confusion Matrix:\n",
      " [[55 11]\n",
      " [10 79]]\n",
      "Classification Report:\n",
      "               precision    recall  f1-score   support\n",
      "\n",
      "           0       0.85      0.83      0.84        66\n",
      "           1       0.88      0.89      0.88        89\n",
      "\n",
      "    accuracy                           0.86       155\n",
      "   macro avg       0.86      0.86      0.86       155\n",
      "weighted avg       0.86      0.86      0.86       155\n",
      "\n"
     ]
    },
    {
     "name": "stderr",
     "output_type": "stream",
     "text": [
      "[nltk_data] Downloading package stopwords to C:\\Users\\SNEHA\n",
      "[nltk_data]     GAWAS\\AppData\\Roaming\\nltk_data...\n",
      "[nltk_data]   Package stopwords is already up-to-date!\n",
      "[nltk_data] Downloading package punkt to C:\\Users\\SNEHA\n",
      "[nltk_data]     GAWAS\\AppData\\Roaming\\nltk_data...\n",
      "[nltk_data]   Package punkt is already up-to-date!\n"
     ]
    },
    {
     "data": {
      "image/png": "[encoded data removed]",
      "text/plain": [
       "<Figure size 1000x600 with 1 Axes>"
      ]
     },
     "metadata": {},
     "output_type": "display_data"
    }
   ],
   "source": [
    "import nltk\n",
    "from sklearn.model_selection import train_test_split\n",
    "from sklearn.feature_extraction.text import CountVectorizer\n",
    "from sklearn.naive_bayes import MultinomialNB\n",
    "from sklearn.metrics import accuracy_score, classification_report, confusion_matrix\n",
    "from nltk.corpus import stopwords\n",
    "\n",
    "# Download the stopwords\n",
    "\n",
    "# Step 1: Load the dataset (assuming 'full_review_text' is your review column)\n",
    "# df = pd.read_csv('your_dataset.csv')\n",
    "nltk.download('stopwords')\n",
    "nltk.download('punkt')  # For tokenization\n",
    "\n",
    "# Step 2: Preprocess the data\n",
    "def preprocess(text):\n",
    "    # Lowercase the text\n",
    "    text = text.lower()\n",
    "    \n",
    "    # Tokenize the text\n",
    "    tokens = nltk.word_tokenize(text)\n",
    "    \n",
    "    # Remove stopwords\n",
    "    tokens = [word for word in tokens if word.isalnum() and word not in stopwords.words('english')]\n",
    "    \n",
    "    # Join the tokens back into a single string\n",
    "    return ' '.join(tokens)\n",
    "\n",
    "# Load your dataset\n",
    "# df = pd.read_csv('your_dataset.csv')  # Uncomment and specify your dataset\n",
    "\n",
    "# Strip column names of any leading/trailing whitespace\n",
    "a.columns = a.columns.str.strip()\n",
    "\n",
    "# Check the column names to ensure 'Reviews' exists\n",
    "print(a.columns)\n",
    "\n",
    "# Ensure there are no NaN values in the Reviews column\n",
    "a['Review'] = a['Review'].fillna(\"\")  # Replace NaN with an empty string\n",
    "\n",
    "\n",
    "# Step 3: Convert sentiments to binary values (positive/negative) for simplicity\n",
    "a['Sentiment'] =a['Sentiment'].map({'Positive': 1, 'Negative': 0, 'Neutral': 0})  # You can adjust neutral as needed\n",
    "\n",
    "# Step 4: Vectorize the reviews (convert text into numerical features)\n",
    "vectorizer = CountVectorizer(max_features=3000)\n",
    "X = vectorizer.fit_transform(a['Review'])\n",
    "\n",
    "# Step 5: Split the dataset into training and testing sets\n",
    "X_train, X_test, y_train, y_test = train_test_split(X, a['Sentiment'], test_size=0.2, random_state=42)\n",
    "\n",
    "# Step 6: Train the Naive Bayes classifier\n",
    "nb_classifier = MultinomialNB()\n",
    "nb_classifier.fit(X_train, y_train)\n",
    "\n",
    "# Step 7: Make predictions on the test set\n",
    "y_pred = nb_classifier.predict(X_test)\n",
    "\n",
    "# Step 8: Evaluate the model\n",
    "print(f'Accuracy: {accuracy_score(y_test, y_pred)}')\n",
    "print(f'Confusion Matrix:\\n {confusion_matrix(y_test, y_pred)}')\n",
    "print(f'Classification Report:\\n {classification_report(y_test, y_pred)}')\n",
    "\n",
    "# Step 9: Visualize the sentiment predictions\n",
    "import matplotlib.pyplot as plt\n",
    "import seaborn as sns\n",
    "\n",
    "plt.figure(figsize=(10, 6))\n",
    "sns.countplot(x=y_pred, palette='coolwarm')\n",
    "plt.title('Sentiment Prediction Distribution')\n",
    "plt.xlabel('Sentiment (0=Negative/Neutral, 1=Positive)')\n",
    "plt.ylabel('Count')\n",
    "plt.show()"
   ]
  },
  {
   "cell_type": "code",
   "execution_count": null,
   "metadata": {},
   "outputs": [],
   "source": []
  }
 ],
 "metadata": {
  "kernelspec": {
   "display_name": "Python 3",
   "language": "python",
   "name": "python3"
  },
  "language_info": {
   "codemirror_mode": {
    "name": "ipython",
    "version": 3
   },
   "file_extension": ".py",
   "mimetype": "text/x-python",
   "name": "python",
   "nbconvert_exporter": "python",
   "pygments_lexer": "ipython3",
   "version": "3.11.4"
  }
 },
 "nbformat": 4,
 "nbformat_minor": 2
}
